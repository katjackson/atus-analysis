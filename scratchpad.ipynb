{
 "cells": [
  {
   "cell_type": "code",
   "execution_count": 132,
   "metadata": {
    "collapsed": false
   },
   "outputs": [],
   "source": [
    "%matplotlib inline\n",
    "\n",
    "import pandas as pd\n",
    "import numpy as np\n",
    "import matplotlib.pyplot as plt\n",
    "from matplotlib import cm\n",
    "import seaborn as sns"
   ]
  },
  {
   "cell_type": "code",
   "execution_count": 133,
   "metadata": {
    "collapsed": false
   },
   "outputs": [
    {
     "data": {
      "text/html": [
       "<div>\n",
       "<table border=\"1\" class=\"dataframe\">\n",
       "  <thead>\n",
       "    <tr style=\"text-align: right;\">\n",
       "      <th></th>\n",
       "      <th>TUCASEID</th>\n",
       "      <th>TUACTIVITY_N</th>\n",
       "      <th>TUTIER1CODE</th>\n",
       "      <th>TUTIER2CODE</th>\n",
       "      <th>TUTIER3CODE</th>\n",
       "      <th>TRCODE</th>\n",
       "      <th>TRTIER2</th>\n",
       "      <th>TUACTDUR</th>\n",
       "    </tr>\n",
       "  </thead>\n",
       "  <tbody>\n",
       "    <tr>\n",
       "      <th>0</th>\n",
       "      <td>20140101140007</td>\n",
       "      <td>1</td>\n",
       "      <td>1</td>\n",
       "      <td>1</td>\n",
       "      <td>1</td>\n",
       "      <td>10101</td>\n",
       "      <td>101</td>\n",
       "      <td>540</td>\n",
       "    </tr>\n",
       "    <tr>\n",
       "      <th>1</th>\n",
       "      <td>20140101140007</td>\n",
       "      <td>2</td>\n",
       "      <td>3</td>\n",
       "      <td>1</td>\n",
       "      <td>1</td>\n",
       "      <td>30101</td>\n",
       "      <td>301</td>\n",
       "      <td>30</td>\n",
       "    </tr>\n",
       "    <tr>\n",
       "      <th>2</th>\n",
       "      <td>20140101140007</td>\n",
       "      <td>3</td>\n",
       "      <td>1</td>\n",
       "      <td>2</td>\n",
       "      <td>1</td>\n",
       "      <td>10201</td>\n",
       "      <td>102</td>\n",
       "      <td>60</td>\n",
       "    </tr>\n",
       "    <tr>\n",
       "      <th>3</th>\n",
       "      <td>20140101140007</td>\n",
       "      <td>4</td>\n",
       "      <td>18</td>\n",
       "      <td>11</td>\n",
       "      <td>1</td>\n",
       "      <td>181101</td>\n",
       "      <td>1811</td>\n",
       "      <td>10</td>\n",
       "    </tr>\n",
       "    <tr>\n",
       "      <th>4</th>\n",
       "      <td>20140101140007</td>\n",
       "      <td>5</td>\n",
       "      <td>11</td>\n",
       "      <td>1</td>\n",
       "      <td>1</td>\n",
       "      <td>110101</td>\n",
       "      <td>1101</td>\n",
       "      <td>30</td>\n",
       "    </tr>\n",
       "  </tbody>\n",
       "</table>\n",
       "</div>"
      ],
      "text/plain": [
       "         TUCASEID  TUACTIVITY_N  TUTIER1CODE  TUTIER2CODE  TUTIER3CODE  \\\n",
       "0  20140101140007             1            1            1            1   \n",
       "1  20140101140007             2            3            1            1   \n",
       "2  20140101140007             3            1            2            1   \n",
       "3  20140101140007             4           18           11            1   \n",
       "4  20140101140007             5           11            1            1   \n",
       "\n",
       "   TRCODE  TRTIER2  TUACTDUR  \n",
       "0   10101      101       540  \n",
       "1   30101      301        30  \n",
       "2   10201      102        60  \n",
       "3  181101     1811        10  \n",
       "4  110101     1101        30  "
      ]
     },
     "execution_count": 133,
     "metadata": {},
     "output_type": "execute_result"
    }
   ],
   "source": [
    "activities = pd.read_csv('data/atusact_2014.dat')\n",
    "activities = activities[['TUCASEID', 'TUACTIVITY_N', 'TUTIER1CODE', 'TUTIER2CODE', 'TUTIER3CODE', 'TRCODE', 'TRTIER2', 'TUACTDUR']]\n",
    "activities.head()"
   ]
  },
  {
   "cell_type": "code",
   "execution_count": 134,
   "metadata": {
    "collapsed": false
   },
   "outputs": [
    {
     "data": {
      "text/html": [
       "<div>\n",
       "<table border=\"1\" class=\"dataframe\">\n",
       "  <thead>\n",
       "    <tr style=\"text-align: right;\">\n",
       "      <th></th>\n",
       "      <th>TUCASEID</th>\n",
       "      <th>TUACTIVITY_N</th>\n",
       "      <th>TUTIER1CODE</th>\n",
       "      <th>TUTIER2CODE</th>\n",
       "      <th>TUTIER3CODE</th>\n",
       "      <th>TRCODE</th>\n",
       "      <th>TRTIER2</th>\n",
       "      <th>TUACTDUR</th>\n",
       "    </tr>\n",
       "  </thead>\n",
       "  <tbody>\n",
       "    <tr>\n",
       "      <th>0</th>\n",
       "      <td>20140101140007</td>\n",
       "      <td>1</td>\n",
       "      <td>1</td>\n",
       "      <td>1</td>\n",
       "      <td>1</td>\n",
       "      <td>10101</td>\n",
       "      <td>101</td>\n",
       "      <td>540</td>\n",
       "    </tr>\n",
       "    <tr>\n",
       "      <th>9</th>\n",
       "      <td>20140101140007</td>\n",
       "      <td>10</td>\n",
       "      <td>1</td>\n",
       "      <td>1</td>\n",
       "      <td>1</td>\n",
       "      <td>10101</td>\n",
       "      <td>101</td>\n",
       "      <td>725</td>\n",
       "    </tr>\n",
       "    <tr>\n",
       "      <th>10</th>\n",
       "      <td>20140101140011</td>\n",
       "      <td>1</td>\n",
       "      <td>1</td>\n",
       "      <td>1</td>\n",
       "      <td>1</td>\n",
       "      <td>10101</td>\n",
       "      <td>101</td>\n",
       "      <td>150</td>\n",
       "    </tr>\n",
       "    <tr>\n",
       "      <th>18</th>\n",
       "      <td>20140101140011</td>\n",
       "      <td>9</td>\n",
       "      <td>1</td>\n",
       "      <td>1</td>\n",
       "      <td>1</td>\n",
       "      <td>10101</td>\n",
       "      <td>101</td>\n",
       "      <td>120</td>\n",
       "    </tr>\n",
       "    <tr>\n",
       "      <th>27</th>\n",
       "      <td>20140101140011</td>\n",
       "      <td>18</td>\n",
       "      <td>1</td>\n",
       "      <td>1</td>\n",
       "      <td>1</td>\n",
       "      <td>10101</td>\n",
       "      <td>101</td>\n",
       "      <td>420</td>\n",
       "    </tr>\n",
       "  </tbody>\n",
       "</table>\n",
       "</div>"
      ],
      "text/plain": [
       "          TUCASEID  TUACTIVITY_N  TUTIER1CODE  TUTIER2CODE  TUTIER3CODE  \\\n",
       "0   20140101140007             1            1            1            1   \n",
       "9   20140101140007            10            1            1            1   \n",
       "10  20140101140011             1            1            1            1   \n",
       "18  20140101140011             9            1            1            1   \n",
       "27  20140101140011            18            1            1            1   \n",
       "\n",
       "    TRCODE  TRTIER2  TUACTDUR  \n",
       "0    10101      101       540  \n",
       "9    10101      101       725  \n",
       "10   10101      101       150  \n",
       "18   10101      101       120  \n",
       "27   10101      101       420  "
      ]
     },
     "execution_count": 134,
     "metadata": {},
     "output_type": "execute_result"
    }
   ],
   "source": [
    "sleepers = activities[activities.TRCODE == 10101]\n",
    "sleepers.head()"
   ]
  },
  {
   "cell_type": "code",
   "execution_count": 135,
   "metadata": {
    "collapsed": false
   },
   "outputs": [
    {
     "data": {
      "text/html": [
       "<div>\n",
       "<table border=\"1\" class=\"dataframe\">\n",
       "  <thead>\n",
       "    <tr style=\"text-align: right;\">\n",
       "      <th></th>\n",
       "      <th>tucaseid</th>\n",
       "      <th>TUFINLWGT</th>\n",
       "      <th>TRYHHCHILD</th>\n",
       "      <th>TEAGE</th>\n",
       "      <th>TESEX</th>\n",
       "      <th>PEEDUCA</th>\n",
       "      <th>PTDTRACE</th>\n",
       "      <th>PEHSPNON</th>\n",
       "      <th>GTMETSTA</th>\n",
       "      <th>TELFS</th>\n",
       "      <th>...</th>\n",
       "      <th>t181601</th>\n",
       "      <th>t181699</th>\n",
       "      <th>t181801</th>\n",
       "      <th>t181899</th>\n",
       "      <th>t189999</th>\n",
       "      <th>t500101</th>\n",
       "      <th>t500103</th>\n",
       "      <th>t500105</th>\n",
       "      <th>t500106</th>\n",
       "      <th>t500107</th>\n",
       "    </tr>\n",
       "  </thead>\n",
       "  <tbody>\n",
       "    <tr>\n",
       "      <th>0</th>\n",
       "      <td>20140101140007</td>\n",
       "      <td>4.891316e+06</td>\n",
       "      <td>0</td>\n",
       "      <td>20</td>\n",
       "      <td>2</td>\n",
       "      <td>39</td>\n",
       "      <td>1</td>\n",
       "      <td>1</td>\n",
       "      <td>1</td>\n",
       "      <td>4</td>\n",
       "      <td>...</td>\n",
       "      <td>0</td>\n",
       "      <td>0</td>\n",
       "      <td>0</td>\n",
       "      <td>0</td>\n",
       "      <td>0</td>\n",
       "      <td>0</td>\n",
       "      <td>0</td>\n",
       "      <td>0</td>\n",
       "      <td>0</td>\n",
       "      <td>0</td>\n",
       "    </tr>\n",
       "    <tr>\n",
       "      <th>1</th>\n",
       "      <td>20140101140011</td>\n",
       "      <td>2.314737e+07</td>\n",
       "      <td>16</td>\n",
       "      <td>16</td>\n",
       "      <td>2</td>\n",
       "      <td>37</td>\n",
       "      <td>2</td>\n",
       "      <td>2</td>\n",
       "      <td>1</td>\n",
       "      <td>1</td>\n",
       "      <td>...</td>\n",
       "      <td>0</td>\n",
       "      <td>0</td>\n",
       "      <td>0</td>\n",
       "      <td>0</td>\n",
       "      <td>0</td>\n",
       "      <td>0</td>\n",
       "      <td>0</td>\n",
       "      <td>0</td>\n",
       "      <td>0</td>\n",
       "      <td>0</td>\n",
       "    </tr>\n",
       "    <tr>\n",
       "      <th>2</th>\n",
       "      <td>20140101140028</td>\n",
       "      <td>2.094182e+07</td>\n",
       "      <td>2</td>\n",
       "      <td>65</td>\n",
       "      <td>2</td>\n",
       "      <td>38</td>\n",
       "      <td>1</td>\n",
       "      <td>1</td>\n",
       "      <td>1</td>\n",
       "      <td>5</td>\n",
       "      <td>...</td>\n",
       "      <td>0</td>\n",
       "      <td>0</td>\n",
       "      <td>0</td>\n",
       "      <td>0</td>\n",
       "      <td>0</td>\n",
       "      <td>0</td>\n",
       "      <td>0</td>\n",
       "      <td>0</td>\n",
       "      <td>0</td>\n",
       "      <td>0</td>\n",
       "    </tr>\n",
       "    <tr>\n",
       "      <th>3</th>\n",
       "      <td>20140101140063</td>\n",
       "      <td>2.505899e+06</td>\n",
       "      <td>-1</td>\n",
       "      <td>50</td>\n",
       "      <td>2</td>\n",
       "      <td>39</td>\n",
       "      <td>2</td>\n",
       "      <td>2</td>\n",
       "      <td>2</td>\n",
       "      <td>5</td>\n",
       "      <td>...</td>\n",
       "      <td>0</td>\n",
       "      <td>0</td>\n",
       "      <td>0</td>\n",
       "      <td>0</td>\n",
       "      <td>0</td>\n",
       "      <td>0</td>\n",
       "      <td>0</td>\n",
       "      <td>0</td>\n",
       "      <td>0</td>\n",
       "      <td>0</td>\n",
       "    </tr>\n",
       "    <tr>\n",
       "      <th>4</th>\n",
       "      <td>20140101140168</td>\n",
       "      <td>1.592823e+07</td>\n",
       "      <td>8</td>\n",
       "      <td>23</td>\n",
       "      <td>2</td>\n",
       "      <td>39</td>\n",
       "      <td>2</td>\n",
       "      <td>2</td>\n",
       "      <td>2</td>\n",
       "      <td>4</td>\n",
       "      <td>...</td>\n",
       "      <td>0</td>\n",
       "      <td>0</td>\n",
       "      <td>0</td>\n",
       "      <td>0</td>\n",
       "      <td>0</td>\n",
       "      <td>0</td>\n",
       "      <td>0</td>\n",
       "      <td>0</td>\n",
       "      <td>0</td>\n",
       "      <td>0</td>\n",
       "    </tr>\n",
       "  </tbody>\n",
       "</table>\n",
       "<p>5 rows × 409 columns</p>\n",
       "</div>"
      ],
      "text/plain": [
       "         tucaseid     TUFINLWGT  TRYHHCHILD  TEAGE  TESEX  PEEDUCA  PTDTRACE  \\\n",
       "0  20140101140007  4.891316e+06           0     20      2       39         1   \n",
       "1  20140101140011  2.314737e+07          16     16      2       37         2   \n",
       "2  20140101140028  2.094182e+07           2     65      2       38         1   \n",
       "3  20140101140063  2.505899e+06          -1     50      2       39         2   \n",
       "4  20140101140168  1.592823e+07           8     23      2       39         2   \n",
       "\n",
       "   PEHSPNON  GTMETSTA  TELFS   ...     t181601  t181699  t181801  t181899  \\\n",
       "0         1         1      4   ...           0        0        0        0   \n",
       "1         2         1      1   ...           0        0        0        0   \n",
       "2         1         1      5   ...           0        0        0        0   \n",
       "3         2         2      5   ...           0        0        0        0   \n",
       "4         2         2      4   ...           0        0        0        0   \n",
       "\n",
       "   t189999  t500101  t500103  t500105  t500106  t500107  \n",
       "0        0        0        0        0        0        0  \n",
       "1        0        0        0        0        0        0  \n",
       "2        0        0        0        0        0        0  \n",
       "3        0        0        0        0        0        0  \n",
       "4        0        0        0        0        0        0  \n",
       "\n",
       "[5 rows x 409 columns]"
      ]
     },
     "execution_count": 135,
     "metadata": {},
     "output_type": "execute_result"
    }
   ],
   "source": [
    "act_sum = pd.read_csv('data/atussum_2014.dat')\n",
    "act_sum.head()"
   ]
  },
  {
   "cell_type": "code",
   "execution_count": 136,
   "metadata": {
    "collapsed": false
   },
   "outputs": [
    {
     "data": {
      "text/html": [
       "<div>\n",
       "<table border=\"1\" class=\"dataframe\">\n",
       "  <thead>\n",
       "    <tr style=\"text-align: right;\">\n",
       "      <th></th>\n",
       "      <th>tucaseid</th>\n",
       "      <th>TUFINLWGT</th>\n",
       "      <th>TRYHHCHILD</th>\n",
       "      <th>TEAGE</th>\n",
       "      <th>TESEX</th>\n",
       "      <th>PEEDUCA</th>\n",
       "      <th>PTDTRACE</th>\n",
       "      <th>PEHSPNON</th>\n",
       "      <th>GTMETSTA</th>\n",
       "      <th>TELFS</th>\n",
       "      <th>...</th>\n",
       "      <th>t181601</th>\n",
       "      <th>t181699</th>\n",
       "      <th>t181801</th>\n",
       "      <th>t181899</th>\n",
       "      <th>t189999</th>\n",
       "      <th>t500101</th>\n",
       "      <th>t500103</th>\n",
       "      <th>t500105</th>\n",
       "      <th>t500106</th>\n",
       "      <th>t500107</th>\n",
       "    </tr>\n",
       "  </thead>\n",
       "  <tbody>\n",
       "    <tr>\n",
       "      <th>0</th>\n",
       "      <td>20140101140007</td>\n",
       "      <td>4.891316e+06</td>\n",
       "      <td>0</td>\n",
       "      <td>20</td>\n",
       "      <td>2</td>\n",
       "      <td>39</td>\n",
       "      <td>1</td>\n",
       "      <td>1</td>\n",
       "      <td>1</td>\n",
       "      <td>4</td>\n",
       "      <td>...</td>\n",
       "      <td>0</td>\n",
       "      <td>0</td>\n",
       "      <td>0</td>\n",
       "      <td>0</td>\n",
       "      <td>0</td>\n",
       "      <td>0</td>\n",
       "      <td>0</td>\n",
       "      <td>0</td>\n",
       "      <td>0</td>\n",
       "      <td>0</td>\n",
       "    </tr>\n",
       "    <tr>\n",
       "      <th>1</th>\n",
       "      <td>20140101140011</td>\n",
       "      <td>2.314737e+07</td>\n",
       "      <td>16</td>\n",
       "      <td>16</td>\n",
       "      <td>2</td>\n",
       "      <td>37</td>\n",
       "      <td>2</td>\n",
       "      <td>2</td>\n",
       "      <td>1</td>\n",
       "      <td>1</td>\n",
       "      <td>...</td>\n",
       "      <td>0</td>\n",
       "      <td>0</td>\n",
       "      <td>0</td>\n",
       "      <td>0</td>\n",
       "      <td>0</td>\n",
       "      <td>0</td>\n",
       "      <td>0</td>\n",
       "      <td>0</td>\n",
       "      <td>0</td>\n",
       "      <td>0</td>\n",
       "    </tr>\n",
       "    <tr>\n",
       "      <th>2</th>\n",
       "      <td>20140101140028</td>\n",
       "      <td>2.094182e+07</td>\n",
       "      <td>2</td>\n",
       "      <td>65</td>\n",
       "      <td>2</td>\n",
       "      <td>38</td>\n",
       "      <td>1</td>\n",
       "      <td>1</td>\n",
       "      <td>1</td>\n",
       "      <td>5</td>\n",
       "      <td>...</td>\n",
       "      <td>0</td>\n",
       "      <td>0</td>\n",
       "      <td>0</td>\n",
       "      <td>0</td>\n",
       "      <td>0</td>\n",
       "      <td>0</td>\n",
       "      <td>0</td>\n",
       "      <td>0</td>\n",
       "      <td>0</td>\n",
       "      <td>0</td>\n",
       "    </tr>\n",
       "    <tr>\n",
       "      <th>3</th>\n",
       "      <td>20140101140063</td>\n",
       "      <td>2.505899e+06</td>\n",
       "      <td>-1</td>\n",
       "      <td>50</td>\n",
       "      <td>2</td>\n",
       "      <td>39</td>\n",
       "      <td>2</td>\n",
       "      <td>2</td>\n",
       "      <td>2</td>\n",
       "      <td>5</td>\n",
       "      <td>...</td>\n",
       "      <td>0</td>\n",
       "      <td>0</td>\n",
       "      <td>0</td>\n",
       "      <td>0</td>\n",
       "      <td>0</td>\n",
       "      <td>0</td>\n",
       "      <td>0</td>\n",
       "      <td>0</td>\n",
       "      <td>0</td>\n",
       "      <td>0</td>\n",
       "    </tr>\n",
       "    <tr>\n",
       "      <th>4</th>\n",
       "      <td>20140101140168</td>\n",
       "      <td>1.592823e+07</td>\n",
       "      <td>8</td>\n",
       "      <td>23</td>\n",
       "      <td>2</td>\n",
       "      <td>39</td>\n",
       "      <td>2</td>\n",
       "      <td>2</td>\n",
       "      <td>2</td>\n",
       "      <td>4</td>\n",
       "      <td>...</td>\n",
       "      <td>0</td>\n",
       "      <td>0</td>\n",
       "      <td>0</td>\n",
       "      <td>0</td>\n",
       "      <td>0</td>\n",
       "      <td>0</td>\n",
       "      <td>0</td>\n",
       "      <td>0</td>\n",
       "      <td>0</td>\n",
       "      <td>0</td>\n",
       "    </tr>\n",
       "  </tbody>\n",
       "</table>\n",
       "<p>5 rows × 409 columns</p>\n",
       "</div>"
      ],
      "text/plain": [
       "         tucaseid     TUFINLWGT  TRYHHCHILD  TEAGE  TESEX  PEEDUCA  PTDTRACE  \\\n",
       "0  20140101140007  4.891316e+06           0     20      2       39         1   \n",
       "1  20140101140011  2.314737e+07          16     16      2       37         2   \n",
       "2  20140101140028  2.094182e+07           2     65      2       38         1   \n",
       "3  20140101140063  2.505899e+06          -1     50      2       39         2   \n",
       "4  20140101140168  1.592823e+07           8     23      2       39         2   \n",
       "\n",
       "   PEHSPNON  GTMETSTA  TELFS   ...     t181601  t181699  t181801  t181899  \\\n",
       "0         1         1      4   ...           0        0        0        0   \n",
       "1         2         1      1   ...           0        0        0        0   \n",
       "2         1         1      5   ...           0        0        0        0   \n",
       "3         2         2      5   ...           0        0        0        0   \n",
       "4         2         2      4   ...           0        0        0        0   \n",
       "\n",
       "   t189999  t500101  t500103  t500105  t500106  t500107  \n",
       "0        0        0        0        0        0        0  \n",
       "1        0        0        0        0        0        0  \n",
       "2        0        0        0        0        0        0  \n",
       "3        0        0        0        0        0        0  \n",
       "4        0        0        0        0        0        0  \n",
       "\n",
       "[5 rows x 409 columns]"
      ]
     },
     "execution_count": 136,
     "metadata": {},
     "output_type": "execute_result"
    }
   ],
   "source": [
    "F_data = act_sum[act_sum.TESEX == 2]\n",
    "M_data = act_sum[act_sum.TESEX == 1]\n",
    "F_data.head()"
   ]
  },
  {
   "cell_type": "code",
   "execution_count": 137,
   "metadata": {
    "collapsed": false
   },
   "outputs": [
    {
     "data": {
      "text/html": [
       "<div>\n",
       "<table border=\"1\" class=\"dataframe\">\n",
       "  <thead>\n",
       "    <tr style=\"text-align: right;\">\n",
       "      <th></th>\n",
       "      <th>TUCASEID</th>\n",
       "      <th>TUACTIVITY_N</th>\n",
       "      <th>TUTIER1CODE</th>\n",
       "      <th>TUTIER2CODE</th>\n",
       "      <th>TUTIER3CODE</th>\n",
       "      <th>TRCODE</th>\n",
       "      <th>TRTIER2</th>\n",
       "      <th>TUACTDUR</th>\n",
       "    </tr>\n",
       "  </thead>\n",
       "  <tbody>\n",
       "    <tr>\n",
       "      <th>4</th>\n",
       "      <td>20140101140007</td>\n",
       "      <td>5</td>\n",
       "      <td>11</td>\n",
       "      <td>1</td>\n",
       "      <td>1</td>\n",
       "      <td>110101</td>\n",
       "      <td>1101</td>\n",
       "      <td>30</td>\n",
       "    </tr>\n",
       "    <tr>\n",
       "      <th>14</th>\n",
       "      <td>20140101140011</td>\n",
       "      <td>5</td>\n",
       "      <td>11</td>\n",
       "      <td>1</td>\n",
       "      <td>1</td>\n",
       "      <td>110101</td>\n",
       "      <td>1101</td>\n",
       "      <td>15</td>\n",
       "    </tr>\n",
       "    <tr>\n",
       "      <th>23</th>\n",
       "      <td>20140101140011</td>\n",
       "      <td>14</td>\n",
       "      <td>11</td>\n",
       "      <td>1</td>\n",
       "      <td>1</td>\n",
       "      <td>110101</td>\n",
       "      <td>1101</td>\n",
       "      <td>30</td>\n",
       "    </tr>\n",
       "    <tr>\n",
       "      <th>30</th>\n",
       "      <td>20140101140028</td>\n",
       "      <td>3</td>\n",
       "      <td>11</td>\n",
       "      <td>1</td>\n",
       "      <td>1</td>\n",
       "      <td>110101</td>\n",
       "      <td>1101</td>\n",
       "      <td>60</td>\n",
       "    </tr>\n",
       "    <tr>\n",
       "      <th>51</th>\n",
       "      <td>20140101140168</td>\n",
       "      <td>5</td>\n",
       "      <td>11</td>\n",
       "      <td>1</td>\n",
       "      <td>1</td>\n",
       "      <td>110101</td>\n",
       "      <td>1101</td>\n",
       "      <td>15</td>\n",
       "    </tr>\n",
       "  </tbody>\n",
       "</table>\n",
       "</div>"
      ],
      "text/plain": [
       "          TUCASEID  TUACTIVITY_N  TUTIER1CODE  TUTIER2CODE  TUTIER3CODE  \\\n",
       "4   20140101140007             5           11            1            1   \n",
       "14  20140101140011             5           11            1            1   \n",
       "23  20140101140011            14           11            1            1   \n",
       "30  20140101140028             3           11            1            1   \n",
       "51  20140101140168             5           11            1            1   \n",
       "\n",
       "    TRCODE  TRTIER2  TUACTDUR  \n",
       "4   110101     1101        30  \n",
       "14  110101     1101        15  \n",
       "23  110101     1101        30  \n",
       "30  110101     1101        60  \n",
       "51  110101     1101        15  "
      ]
     },
     "execution_count": 137,
     "metadata": {},
     "output_type": "execute_result"
    }
   ],
   "source": [
    "eating = activities[activities.TUTIER1CODE == 11]\n",
    "eating.head()"
   ]
  },
  {
   "cell_type": "markdown",
   "metadata": {},
   "source": [
    "### FINDING OUTLIERS\n",
    "\n",
    "make a copy of original df\n",
    "newdf = df.copy()\n",
    "\n",
    "newdf['x-Mean'] = abs(newdf['Revenue'] - newdf['Revenue'].mean())\n",
    "\n",
    "newdf['1.96*std'] = 1.96*newdf['Revenue'].std()  \n",
    "\n",
    "newdf['Outlier'] = abs(newdf['Revenue'] - newdf['Revenue'].mean()) > 1.96*newdf['Revenue'].std()\n"
   ]
  },
  {
   "cell_type": "code",
   "execution_count": 138,
   "metadata": {
    "collapsed": false
   },
   "outputs": [
    {
     "data": {
      "text/html": [
       "<div>\n",
       "<table border=\"1\" class=\"dataframe\">\n",
       "  <thead>\n",
       "    <tr style=\"text-align: right;\">\n",
       "      <th></th>\n",
       "      <th>TUCASEID</th>\n",
       "      <th>TUACTIVITY_N</th>\n",
       "      <th>TUTIER1CODE</th>\n",
       "      <th>TUTIER2CODE</th>\n",
       "      <th>TUTIER3CODE</th>\n",
       "      <th>TRCODE</th>\n",
       "      <th>TRTIER2</th>\n",
       "      <th>TUACTDUR</th>\n",
       "      <th>x-Mean</th>\n",
       "      <th>1.96*std</th>\n",
       "      <th>Outlier</th>\n",
       "    </tr>\n",
       "  </thead>\n",
       "  <tbody>\n",
       "    <tr>\n",
       "      <th>4</th>\n",
       "      <td>20140101140007</td>\n",
       "      <td>5</td>\n",
       "      <td>11</td>\n",
       "      <td>1</td>\n",
       "      <td>1</td>\n",
       "      <td>110101</td>\n",
       "      <td>1101</td>\n",
       "      <td>30</td>\n",
       "      <td>2.760182</td>\n",
       "      <td>56.883675</td>\n",
       "      <td>False</td>\n",
       "    </tr>\n",
       "    <tr>\n",
       "      <th>14</th>\n",
       "      <td>20140101140011</td>\n",
       "      <td>5</td>\n",
       "      <td>11</td>\n",
       "      <td>1</td>\n",
       "      <td>1</td>\n",
       "      <td>110101</td>\n",
       "      <td>1101</td>\n",
       "      <td>15</td>\n",
       "      <td>17.760182</td>\n",
       "      <td>56.883675</td>\n",
       "      <td>False</td>\n",
       "    </tr>\n",
       "    <tr>\n",
       "      <th>23</th>\n",
       "      <td>20140101140011</td>\n",
       "      <td>14</td>\n",
       "      <td>11</td>\n",
       "      <td>1</td>\n",
       "      <td>1</td>\n",
       "      <td>110101</td>\n",
       "      <td>1101</td>\n",
       "      <td>30</td>\n",
       "      <td>2.760182</td>\n",
       "      <td>56.883675</td>\n",
       "      <td>False</td>\n",
       "    </tr>\n",
       "    <tr>\n",
       "      <th>30</th>\n",
       "      <td>20140101140028</td>\n",
       "      <td>3</td>\n",
       "      <td>11</td>\n",
       "      <td>1</td>\n",
       "      <td>1</td>\n",
       "      <td>110101</td>\n",
       "      <td>1101</td>\n",
       "      <td>60</td>\n",
       "      <td>27.239818</td>\n",
       "      <td>56.883675</td>\n",
       "      <td>False</td>\n",
       "    </tr>\n",
       "    <tr>\n",
       "      <th>51</th>\n",
       "      <td>20140101140168</td>\n",
       "      <td>5</td>\n",
       "      <td>11</td>\n",
       "      <td>1</td>\n",
       "      <td>1</td>\n",
       "      <td>110101</td>\n",
       "      <td>1101</td>\n",
       "      <td>15</td>\n",
       "      <td>17.760182</td>\n",
       "      <td>56.883675</td>\n",
       "      <td>False</td>\n",
       "    </tr>\n",
       "  </tbody>\n",
       "</table>\n",
       "</div>"
      ],
      "text/plain": [
       "          TUCASEID  TUACTIVITY_N  TUTIER1CODE  TUTIER2CODE  TUTIER3CODE  \\\n",
       "4   20140101140007             5           11            1            1   \n",
       "14  20140101140011             5           11            1            1   \n",
       "23  20140101140011            14           11            1            1   \n",
       "30  20140101140028             3           11            1            1   \n",
       "51  20140101140168             5           11            1            1   \n",
       "\n",
       "    TRCODE  TRTIER2  TUACTDUR     x-Mean   1.96*std Outlier  \n",
       "4   110101     1101        30   2.760182  56.883675   False  \n",
       "14  110101     1101        15  17.760182  56.883675   False  \n",
       "23  110101     1101        30   2.760182  56.883675   False  \n",
       "30  110101     1101        60  27.239818  56.883675   False  \n",
       "51  110101     1101        15  17.760182  56.883675   False  "
      ]
     },
     "execution_count": 138,
     "metadata": {},
     "output_type": "execute_result"
    }
   ],
   "source": [
    "eat = eating.copy()\n",
    "eat['x-Mean'] = abs(eat.TUACTDUR - eat.TUACTDUR.mean())\n",
    "eat['1.96*std'] = 1.96*eat.TUACTDUR.std()\n",
    "eat['Outlier'] = eat['x-Mean'] > eat['1.96*std']\n",
    "eat = eat[eat.Outlier == False]\n",
    "eat.head()"
   ]
  },
  {
   "cell_type": "code",
   "execution_count": 139,
   "metadata": {
    "collapsed": false,
    "scrolled": true
   },
   "outputs": [
    {
     "data": {
      "text/html": [
       "<div>\n",
       "<table border=\"1\" class=\"dataframe\">\n",
       "  <thead>\n",
       "    <tr style=\"text-align: right;\">\n",
       "      <th></th>\n",
       "      <th>TUCASEID</th>\n",
       "      <th>meals</th>\n",
       "      <th>TUACTDUR</th>\n",
       "    </tr>\n",
       "  </thead>\n",
       "  <tbody>\n",
       "    <tr>\n",
       "      <th>0</th>\n",
       "      <td>20140101140007</td>\n",
       "      <td>1</td>\n",
       "      <td>30</td>\n",
       "    </tr>\n",
       "    <tr>\n",
       "      <th>1</th>\n",
       "      <td>20140101140011</td>\n",
       "      <td>2</td>\n",
       "      <td>45</td>\n",
       "    </tr>\n",
       "    <tr>\n",
       "      <th>2</th>\n",
       "      <td>20140101140028</td>\n",
       "      <td>1</td>\n",
       "      <td>60</td>\n",
       "    </tr>\n",
       "    <tr>\n",
       "      <th>3</th>\n",
       "      <td>20140101140168</td>\n",
       "      <td>3</td>\n",
       "      <td>65</td>\n",
       "    </tr>\n",
       "    <tr>\n",
       "      <th>4</th>\n",
       "      <td>20140101140537</td>\n",
       "      <td>1</td>\n",
       "      <td>30</td>\n",
       "    </tr>\n",
       "  </tbody>\n",
       "</table>\n",
       "</div>"
      ],
      "text/plain": [
       "         TUCASEID  meals  TUACTDUR\n",
       "0  20140101140007      1        30\n",
       "1  20140101140011      2        45\n",
       "2  20140101140028      1        60\n",
       "3  20140101140168      3        65\n",
       "4  20140101140537      1        30"
      ]
     },
     "execution_count": 139,
     "metadata": {},
     "output_type": "execute_result"
    }
   ],
   "source": [
    "eat_len = eat.groupby(eat.TUCASEID)\n",
    "eat_len = eat_len.agg({'TUACTDUR': np.sum, 'TUACTIVITY_N': np.size})\n",
    "eat_len.rename(columns={'TUACTIVITY_N':'meals'}, inplace=True)\n",
    "eat_len.reset_index(inplace=True)\n",
    "eat_len.head()"
   ]
  },
  {
   "cell_type": "code",
   "execution_count": 140,
   "metadata": {
    "collapsed": false
   },
   "outputs": [
    {
     "data": {
      "text/plain": [
       "10841"
      ]
     },
     "execution_count": 140,
     "metadata": {},
     "output_type": "execute_result"
    }
   ],
   "source": [
    "len(eat_len)"
   ]
  },
  {
   "cell_type": "code",
   "execution_count": 141,
   "metadata": {
    "collapsed": false
   },
   "outputs": [
    {
     "data": {
      "text/plain": [
       "11592"
      ]
     },
     "execution_count": 141,
     "metadata": {},
     "output_type": "execute_result"
    }
   ],
   "source": [
    "len(act_sum)"
   ]
  },
  {
   "cell_type": "code",
   "execution_count": 142,
   "metadata": {
    "collapsed": false,
    "scrolled": true
   },
   "outputs": [
    {
     "data": {
      "text/html": [
       "<div>\n",
       "<table border=\"1\" class=\"dataframe\">\n",
       "  <thead>\n",
       "    <tr style=\"text-align: right;\">\n",
       "      <th></th>\n",
       "      <th>TUCASEID</th>\n",
       "      <th>TULINENO</th>\n",
       "      <th>TUYEAR</th>\n",
       "      <th>TUMONTH</th>\n",
       "      <th>TEABSRSN</th>\n",
       "      <th>TEERN</th>\n",
       "      <th>TEERNH1O</th>\n",
       "      <th>TEERNH2</th>\n",
       "      <th>TEERNHRO</th>\n",
       "      <th>TEERNHRY</th>\n",
       "      <th>...</th>\n",
       "      <th>TXSPEMPNOT</th>\n",
       "      <th>TXSPUHRS</th>\n",
       "      <th>TXTCC</th>\n",
       "      <th>TXTCCTOT</th>\n",
       "      <th>TXTCOC</th>\n",
       "      <th>TXTHH</th>\n",
       "      <th>TXTNOHH</th>\n",
       "      <th>TXTO</th>\n",
       "      <th>TXTOHH</th>\n",
       "      <th>TXTONHH</th>\n",
       "    </tr>\n",
       "  </thead>\n",
       "  <tbody>\n",
       "    <tr>\n",
       "      <th>0</th>\n",
       "      <td>20140101140007</td>\n",
       "      <td>1</td>\n",
       "      <td>2014</td>\n",
       "      <td>1</td>\n",
       "      <td>-1</td>\n",
       "      <td>-1</td>\n",
       "      <td>-1</td>\n",
       "      <td>-1</td>\n",
       "      <td>-1</td>\n",
       "      <td>-1</td>\n",
       "      <td>...</td>\n",
       "      <td>0</td>\n",
       "      <td>0</td>\n",
       "      <td>0</td>\n",
       "      <td>0</td>\n",
       "      <td>0</td>\n",
       "      <td>0</td>\n",
       "      <td>-1</td>\n",
       "      <td>0</td>\n",
       "      <td>0</td>\n",
       "      <td>-1</td>\n",
       "    </tr>\n",
       "    <tr>\n",
       "      <th>1</th>\n",
       "      <td>20140101140011</td>\n",
       "      <td>1</td>\n",
       "      <td>2014</td>\n",
       "      <td>1</td>\n",
       "      <td>-1</td>\n",
       "      <td>-1</td>\n",
       "      <td>-1</td>\n",
       "      <td>500</td>\n",
       "      <td>-1</td>\n",
       "      <td>1</td>\n",
       "      <td>...</td>\n",
       "      <td>-1</td>\n",
       "      <td>-1</td>\n",
       "      <td>-1</td>\n",
       "      <td>0</td>\n",
       "      <td>0</td>\n",
       "      <td>-1</td>\n",
       "      <td>-1</td>\n",
       "      <td>-1</td>\n",
       "      <td>-1</td>\n",
       "      <td>-1</td>\n",
       "    </tr>\n",
       "    <tr>\n",
       "      <th>2</th>\n",
       "      <td>20140101140028</td>\n",
       "      <td>1</td>\n",
       "      <td>2014</td>\n",
       "      <td>1</td>\n",
       "      <td>-1</td>\n",
       "      <td>-1</td>\n",
       "      <td>-1</td>\n",
       "      <td>-1</td>\n",
       "      <td>-1</td>\n",
       "      <td>-1</td>\n",
       "      <td>...</td>\n",
       "      <td>-1</td>\n",
       "      <td>-1</td>\n",
       "      <td>0</td>\n",
       "      <td>0</td>\n",
       "      <td>0</td>\n",
       "      <td>0</td>\n",
       "      <td>0</td>\n",
       "      <td>-1</td>\n",
       "      <td>-1</td>\n",
       "      <td>-1</td>\n",
       "    </tr>\n",
       "    <tr>\n",
       "      <th>3</th>\n",
       "      <td>20140101140063</td>\n",
       "      <td>1</td>\n",
       "      <td>2014</td>\n",
       "      <td>1</td>\n",
       "      <td>-1</td>\n",
       "      <td>-1</td>\n",
       "      <td>-1</td>\n",
       "      <td>-1</td>\n",
       "      <td>-1</td>\n",
       "      <td>-1</td>\n",
       "      <td>...</td>\n",
       "      <td>-1</td>\n",
       "      <td>-1</td>\n",
       "      <td>-1</td>\n",
       "      <td>0</td>\n",
       "      <td>0</td>\n",
       "      <td>-1</td>\n",
       "      <td>-1</td>\n",
       "      <td>-1</td>\n",
       "      <td>-1</td>\n",
       "      <td>-1</td>\n",
       "    </tr>\n",
       "    <tr>\n",
       "      <th>4</th>\n",
       "      <td>20140101140168</td>\n",
       "      <td>1</td>\n",
       "      <td>2014</td>\n",
       "      <td>1</td>\n",
       "      <td>-1</td>\n",
       "      <td>-1</td>\n",
       "      <td>-1</td>\n",
       "      <td>-1</td>\n",
       "      <td>-1</td>\n",
       "      <td>-1</td>\n",
       "      <td>...</td>\n",
       "      <td>-1</td>\n",
       "      <td>-1</td>\n",
       "      <td>0</td>\n",
       "      <td>0</td>\n",
       "      <td>0</td>\n",
       "      <td>0</td>\n",
       "      <td>-1</td>\n",
       "      <td>0</td>\n",
       "      <td>0</td>\n",
       "      <td>-1</td>\n",
       "    </tr>\n",
       "  </tbody>\n",
       "</table>\n",
       "<p>5 rows × 175 columns</p>\n",
       "</div>"
      ],
      "text/plain": [
       "         TUCASEID  TULINENO  TUYEAR  TUMONTH  TEABSRSN  TEERN  TEERNH1O  \\\n",
       "0  20140101140007         1    2014        1        -1     -1        -1   \n",
       "1  20140101140011         1    2014        1        -1     -1        -1   \n",
       "2  20140101140028         1    2014        1        -1     -1        -1   \n",
       "3  20140101140063         1    2014        1        -1     -1        -1   \n",
       "4  20140101140168         1    2014        1        -1     -1        -1   \n",
       "\n",
       "   TEERNH2  TEERNHRO  TEERNHRY   ...     TXSPEMPNOT  TXSPUHRS  TXTCC  \\\n",
       "0       -1        -1        -1   ...              0         0      0   \n",
       "1      500        -1         1   ...             -1        -1     -1   \n",
       "2       -1        -1        -1   ...             -1        -1      0   \n",
       "3       -1        -1        -1   ...             -1        -1     -1   \n",
       "4       -1        -1        -1   ...             -1        -1      0   \n",
       "\n",
       "   TXTCCTOT  TXTCOC  TXTHH  TXTNOHH  TXTO  TXTOHH  TXTONHH  \n",
       "0         0       0      0       -1     0       0       -1  \n",
       "1         0       0     -1       -1    -1      -1       -1  \n",
       "2         0       0      0        0    -1      -1       -1  \n",
       "3         0       0     -1       -1    -1      -1       -1  \n",
       "4         0       0      0       -1     0       0       -1  \n",
       "\n",
       "[5 rows x 175 columns]"
      ]
     },
     "execution_count": 142,
     "metadata": {},
     "output_type": "execute_result"
    }
   ],
   "source": [
    "respondent = pd.read_csv('data/atusresp_2014.dat')\n",
    "respondent.head()"
   ]
  },
  {
   "cell_type": "code",
   "execution_count": 143,
   "metadata": {
    "collapsed": false
   },
   "outputs": [
    {
     "data": {
      "text/plain": [
       "11592"
      ]
     },
     "execution_count": 143,
     "metadata": {},
     "output_type": "execute_result"
    }
   ],
   "source": [
    "len(respondent)"
   ]
  },
  {
   "cell_type": "code",
   "execution_count": 144,
   "metadata": {
    "collapsed": false
   },
   "outputs": [
    {
     "data": {
      "text/html": [
       "<div>\n",
       "<table border=\"1\" class=\"dataframe\">\n",
       "  <thead>\n",
       "    <tr style=\"text-align: right;\">\n",
       "      <th></th>\n",
       "      <th>TUCASEID</th>\n",
       "      <th>TUFINLWGT</th>\n",
       "    </tr>\n",
       "  </thead>\n",
       "  <tbody>\n",
       "    <tr>\n",
       "      <th>0</th>\n",
       "      <td>20140101140007</td>\n",
       "      <td>4.891316e+06</td>\n",
       "    </tr>\n",
       "    <tr>\n",
       "      <th>1</th>\n",
       "      <td>20140101140011</td>\n",
       "      <td>2.314737e+07</td>\n",
       "    </tr>\n",
       "    <tr>\n",
       "      <th>2</th>\n",
       "      <td>20140101140028</td>\n",
       "      <td>2.094182e+07</td>\n",
       "    </tr>\n",
       "    <tr>\n",
       "      <th>3</th>\n",
       "      <td>20140101140063</td>\n",
       "      <td>2.505899e+06</td>\n",
       "    </tr>\n",
       "    <tr>\n",
       "      <th>4</th>\n",
       "      <td>20140101140168</td>\n",
       "      <td>1.592823e+07</td>\n",
       "    </tr>\n",
       "  </tbody>\n",
       "</table>\n",
       "</div>"
      ],
      "text/plain": [
       "         TUCASEID     TUFINLWGT\n",
       "0  20140101140007  4.891316e+06\n",
       "1  20140101140011  2.314737e+07\n",
       "2  20140101140028  2.094182e+07\n",
       "3  20140101140063  2.505899e+06\n",
       "4  20140101140168  1.592823e+07"
      ]
     },
     "execution_count": 144,
     "metadata": {},
     "output_type": "execute_result"
    }
   ],
   "source": [
    "respondent = respondent[['TUCASEID', 'TUFINLWGT']]\n",
    "respondent.head()"
   ]
  },
  {
   "cell_type": "code",
   "execution_count": 145,
   "metadata": {
    "collapsed": false
   },
   "outputs": [
    {
     "data": {
      "text/html": [
       "<div>\n",
       "<table border=\"1\" class=\"dataframe\">\n",
       "  <thead>\n",
       "    <tr style=\"text-align: right;\">\n",
       "      <th></th>\n",
       "      <th>TUCASEID</th>\n",
       "      <th>TULINENO</th>\n",
       "      <th>TEAGE</th>\n",
       "      <th>TESEX</th>\n",
       "    </tr>\n",
       "  </thead>\n",
       "  <tbody>\n",
       "    <tr>\n",
       "      <th>0</th>\n",
       "      <td>20140101140007</td>\n",
       "      <td>1</td>\n",
       "      <td>20</td>\n",
       "      <td>2</td>\n",
       "    </tr>\n",
       "    <tr>\n",
       "      <th>1</th>\n",
       "      <td>20140101140007</td>\n",
       "      <td>2</td>\n",
       "      <td>19</td>\n",
       "      <td>1</td>\n",
       "    </tr>\n",
       "    <tr>\n",
       "      <th>2</th>\n",
       "      <td>20140101140007</td>\n",
       "      <td>3</td>\n",
       "      <td>0</td>\n",
       "      <td>1</td>\n",
       "    </tr>\n",
       "    <tr>\n",
       "      <th>3</th>\n",
       "      <td>20140101140011</td>\n",
       "      <td>1</td>\n",
       "      <td>16</td>\n",
       "      <td>2</td>\n",
       "    </tr>\n",
       "    <tr>\n",
       "      <th>4</th>\n",
       "      <td>20140101140011</td>\n",
       "      <td>2</td>\n",
       "      <td>33</td>\n",
       "      <td>2</td>\n",
       "    </tr>\n",
       "  </tbody>\n",
       "</table>\n",
       "</div>"
      ],
      "text/plain": [
       "         TUCASEID  TULINENO  TEAGE  TESEX\n",
       "0  20140101140007         1     20      2\n",
       "1  20140101140007         2     19      1\n",
       "2  20140101140007         3      0      1\n",
       "3  20140101140011         1     16      2\n",
       "4  20140101140011         2     33      2"
      ]
     },
     "execution_count": 145,
     "metadata": {},
     "output_type": "execute_result"
    }
   ],
   "source": [
    "roster = pd.read_csv('data/atusrost_2014.dat')\n",
    "roster.drop(['TXSEX', 'TXRRP', 'TXAGE', 'TERRP'], 1, inplace=True)\n",
    "roster.head()"
   ]
  },
  {
   "cell_type": "code",
   "execution_count": 146,
   "metadata": {
    "collapsed": false
   },
   "outputs": [
    {
     "data": {
      "text/html": [
       "<div>\n",
       "<table border=\"1\" class=\"dataframe\">\n",
       "  <thead>\n",
       "    <tr style=\"text-align: right;\">\n",
       "      <th></th>\n",
       "      <th>TUCASEID</th>\n",
       "      <th>TEAGE</th>\n",
       "      <th>TESEX</th>\n",
       "    </tr>\n",
       "  </thead>\n",
       "  <tbody>\n",
       "    <tr>\n",
       "      <th>0</th>\n",
       "      <td>20140101140007</td>\n",
       "      <td>20</td>\n",
       "      <td>2</td>\n",
       "    </tr>\n",
       "    <tr>\n",
       "      <th>3</th>\n",
       "      <td>20140101140011</td>\n",
       "      <td>16</td>\n",
       "      <td>2</td>\n",
       "    </tr>\n",
       "    <tr>\n",
       "      <th>5</th>\n",
       "      <td>20140101140028</td>\n",
       "      <td>65</td>\n",
       "      <td>2</td>\n",
       "    </tr>\n",
       "    <tr>\n",
       "      <th>11</th>\n",
       "      <td>20140101140063</td>\n",
       "      <td>50</td>\n",
       "      <td>2</td>\n",
       "    </tr>\n",
       "    <tr>\n",
       "      <th>12</th>\n",
       "      <td>20140101140168</td>\n",
       "      <td>23</td>\n",
       "      <td>2</td>\n",
       "    </tr>\n",
       "  </tbody>\n",
       "</table>\n",
       "</div>"
      ],
      "text/plain": [
       "          TUCASEID  TEAGE  TESEX\n",
       "0   20140101140007     20      2\n",
       "3   20140101140011     16      2\n",
       "5   20140101140028     65      2\n",
       "11  20140101140063     50      2\n",
       "12  20140101140168     23      2"
      ]
     },
     "execution_count": 146,
     "metadata": {},
     "output_type": "execute_result"
    }
   ],
   "source": [
    "roster = roster[roster['TULINENO'] == 1]\n",
    "roster.drop('TULINENO', 1, inplace=True)\n",
    "len(roster)\n",
    "roster.head()"
   ]
  },
  {
   "cell_type": "code",
   "execution_count": 147,
   "metadata": {
    "collapsed": false
   },
   "outputs": [
    {
     "data": {
      "text/plain": [
       "TESEX\n",
       "1    7.663031e+06\n",
       "2    6.523436e+06\n",
       "Name: TUFINLWGT, dtype: float64"
      ]
     },
     "execution_count": 147,
     "metadata": {},
     "output_type": "execute_result"
    }
   ],
   "source": [
    "weights_roster = pd.merge(roster, respondent, on='TUCASEID').groupby(['TESEX']).std()\n",
    "weights_roster.head()\n",
    "weights_roster['TUFINLWGT']"
   ]
  },
  {
   "cell_type": "code",
   "execution_count": 148,
   "metadata": {
    "collapsed": false,
    "scrolled": true
   },
   "outputs": [
    {
     "data": {
      "text/html": [
       "<div>\n",
       "<table border=\"1\" class=\"dataframe\">\n",
       "  <thead>\n",
       "    <tr style=\"text-align: right;\">\n",
       "      <th></th>\n",
       "      <th>TUCASEID</th>\n",
       "      <th>TEAGE</th>\n",
       "      <th>TESEX</th>\n",
       "      <th>meals</th>\n",
       "      <th>TUACTDUR</th>\n",
       "    </tr>\n",
       "  </thead>\n",
       "  <tbody>\n",
       "    <tr>\n",
       "      <th>0</th>\n",
       "      <td>20140101140007</td>\n",
       "      <td>20</td>\n",
       "      <td>2</td>\n",
       "      <td>1</td>\n",
       "      <td>30</td>\n",
       "    </tr>\n",
       "    <tr>\n",
       "      <th>1</th>\n",
       "      <td>20140101140011</td>\n",
       "      <td>16</td>\n",
       "      <td>2</td>\n",
       "      <td>2</td>\n",
       "      <td>45</td>\n",
       "    </tr>\n",
       "    <tr>\n",
       "      <th>2</th>\n",
       "      <td>20140101140028</td>\n",
       "      <td>65</td>\n",
       "      <td>2</td>\n",
       "      <td>1</td>\n",
       "      <td>60</td>\n",
       "    </tr>\n",
       "    <tr>\n",
       "      <th>3</th>\n",
       "      <td>20140101140168</td>\n",
       "      <td>23</td>\n",
       "      <td>2</td>\n",
       "      <td>3</td>\n",
       "      <td>65</td>\n",
       "    </tr>\n",
       "    <tr>\n",
       "      <th>4</th>\n",
       "      <td>20140101140537</td>\n",
       "      <td>85</td>\n",
       "      <td>1</td>\n",
       "      <td>1</td>\n",
       "      <td>30</td>\n",
       "    </tr>\n",
       "  </tbody>\n",
       "</table>\n",
       "</div>"
      ],
      "text/plain": [
       "         TUCASEID  TEAGE  TESEX  meals  TUACTDUR\n",
       "0  20140101140007     20      2      1        30\n",
       "1  20140101140011     16      2      2        45\n",
       "2  20140101140028     65      2      1        60\n",
       "3  20140101140168     23      2      3        65\n",
       "4  20140101140537     85      1      1        30"
      ]
     },
     "execution_count": 148,
     "metadata": {},
     "output_type": "execute_result"
    }
   ],
   "source": [
    "people_eating = pd.merge(roster, eat_len)\n",
    "# people_eating['min_eating'] = eat_len['TUACTDUR']\n",
    "people_eating.head()"
   ]
  },
  {
   "cell_type": "code",
   "execution_count": 149,
   "metadata": {
    "collapsed": false
   },
   "outputs": [
    {
     "name": "stdout",
     "output_type": "stream",
     "text": [
      "57.2911287653 60.6945196916\n"
     ]
    }
   ],
   "source": [
    "w_eat_len = people_eating[people_eating.TESEX == 2].mean().TUACTDUR\n",
    "m_eat_len = people_eating[people_eating.TESEX == 1].mean().TUACTDUR\n",
    "print(w_eat_len, m_eat_len)"
   ]
  },
  {
   "cell_type": "markdown",
   "metadata": {},
   "source": [
    "Women spent an average of 57.29 minutes a day eating. Men spent an average of 60.69 minutes a day eating."
   ]
  },
  {
   "cell_type": "code",
   "execution_count": 150,
   "metadata": {
    "collapsed": false
   },
   "outputs": [
    {
     "name": "stdout",
     "output_type": "stream",
     "text": [
      "2.03905991394 2.07168160033\n"
     ]
    }
   ],
   "source": [
    "w_eat_often = people_eating[people_eating.TESEX == 2].mean().meals\n",
    "m_eat_often = people_eating[people_eating.TESEX == 1].mean().meals\n",
    "print(w_eat_often, m_eat_often)"
   ]
  },
  {
   "cell_type": "code",
   "execution_count": 151,
   "metadata": {
    "collapsed": false
   },
   "outputs": [
    {
     "data": {
      "image/png": "[encoded data removed]",
      "text/plain": [
       "<matplotlib.figure.Figure at 0x1070988d0>"
      ]
     },
     "metadata": {},
     "output_type": "display_data"
    },
    {
     "data": {
      "text/plain": [
       "<matplotlib.axes._subplots.AxesSubplot at 0x1070c32b0>"
      ]
     },
     "execution_count": 151,
     "metadata": {},
     "output_type": "execute_result"
    },
    {
     "data": {
      "image/png": "[encoded data removed]",
      "text/plain": [
       "<matplotlib.figure.Figure at 0x115f15cc0>"
      ]
     },
     "metadata": {},
     "output_type": "display_data"
    }
   ],
   "source": [
    "w_eat = people_eating[people_eating.TESEX == 2].TUACTDUR\n",
    "w_eat.plot.hist(bins=50)\n",
    "plt.show()\n",
    "m_eat = people_eating[people_eating.TESEX == 1].TUACTDUR\n",
    "m_eat.plot.hist(bins=50)"
   ]
  },
  {
   "cell_type": "code",
   "execution_count": 152,
   "metadata": {
    "collapsed": false
   },
   "outputs": [
    {
     "data": {
      "text/plain": [
       "<matplotlib.collections.PathCollection at 0x105ccd128>"
      ]
     },
     "execution_count": 152,
     "metadata": {},
     "output_type": "execute_result"
    },
    {
     "data": {
      "image/png": "[encoded data removed]",
      "text/plain": [
       "<matplotlib.figure.Figure at 0x107b74ba8>"
      ]
     },
     "metadata": {},
     "output_type": "display_data"
    }
   ],
   "source": [
    "plt.scatter(range(len(w_eat)), w_eat)"
   ]
  },
  {
   "cell_type": "code",
   "execution_count": 153,
   "metadata": {
    "collapsed": false
   },
   "outputs": [
    {
     "data": {
      "text/plain": [
       "<matplotlib.collections.PathCollection at 0x1081d01d0>"
      ]
     },
     "execution_count": 153,
     "metadata": {},
     "output_type": "execute_result"
    },
    {
     "data": {
      "image/png": "[encoded data removed]",
      "text/plain": [
       "<matplotlib.figure.Figure at 0x10610c5c0>"
      ]
     },
     "metadata": {},
     "output_type": "display_data"
    }
   ],
   "source": [
    "m_eat = people_eating[people_eating.TESEX == 1].TUACTDUR\n",
    "plt.scatter(range(len(m_eat)), m_eat)"
   ]
  },
  {
   "cell_type": "code",
   "execution_count": 154,
   "metadata": {
    "collapsed": false
   },
   "outputs": [
    {
     "data": {
      "text/plain": [
       "<matplotlib.axes._subplots.AxesSubplot at 0x107e21588>"
      ]
     },
     "execution_count": 154,
     "metadata": {},
     "output_type": "execute_result"
    },
    {
     "data": {
      "image/png": "[encoded data removed]",
      "text/plain": [
       "<matplotlib.figure.Figure at 0x1081a8438>"
      ]
     },
     "metadata": {},
     "output_type": "display_data"
    }
   ],
   "source": [
    "people_eating.plot(kind='hexbin', x='TEAGE', y='TUACTDUR', gridsize=20)"
   ]
  },
  {
   "cell_type": "code",
   "execution_count": 155,
   "metadata": {
    "collapsed": false
   },
   "outputs": [],
   "source": [
    "activities.head()\n",
    "ay = activities.groupby(['TUTIER1CODE', 'TUTIER2CODE'])\n",
    "ay = ay.agg({'TUCASEID': np.size, 'TUACTDUR': np.mean})"
   ]
  },
  {
   "cell_type": "code",
   "execution_count": 156,
   "metadata": {
    "collapsed": false
   },
   "outputs": [
    {
     "data": {
      "text/plain": [
       "223249"
      ]
     },
     "execution_count": 156,
     "metadata": {},
     "output_type": "execute_result"
    }
   ],
   "source": [
    "len(activities)"
   ]
  },
  {
   "cell_type": "code",
   "execution_count": 157,
   "metadata": {
    "collapsed": false
   },
   "outputs": [
    {
     "data": {
      "text/plain": [
       "11592"
      ]
     },
     "execution_count": 157,
     "metadata": {},
     "output_type": "execute_result"
    }
   ],
   "source": [
    "len(roster)"
   ]
  },
  {
   "cell_type": "code",
   "execution_count": 158,
   "metadata": {
    "collapsed": false
   },
   "outputs": [
    {
     "data": {
      "text/plain": [
       "223249"
      ]
     },
     "execution_count": 158,
     "metadata": {},
     "output_type": "execute_result"
    }
   ],
   "source": [
    "act_rost = pd.merge(activities, roster, on='TUCASEID', how='outer')\n",
    "act_rost.head()\n",
    "len(act_rost)"
   ]
  },
  {
   "cell_type": "code",
   "execution_count": 159,
   "metadata": {
    "collapsed": false
   },
   "outputs": [
    {
     "data": {
      "text/html": [
       "<div>\n",
       "<table border=\"1\" class=\"dataframe\">\n",
       "  <thead>\n",
       "    <tr style=\"text-align: right;\">\n",
       "      <th></th>\n",
       "      <th></th>\n",
       "      <th></th>\n",
       "      <th></th>\n",
       "      <th></th>\n",
       "      <th>TUCASEID</th>\n",
       "    </tr>\n",
       "    <tr>\n",
       "      <th>TUTIER1CODE</th>\n",
       "      <th>TUTIER2CODE</th>\n",
       "      <th>TUTIER3CODE</th>\n",
       "      <th>TESEX</th>\n",
       "      <th>TEAGE</th>\n",
       "      <th></th>\n",
       "    </tr>\n",
       "  </thead>\n",
       "  <tbody>\n",
       "    <tr>\n",
       "      <th rowspan=\"5\" valign=\"top\">1</th>\n",
       "      <th rowspan=\"5\" valign=\"top\">1</th>\n",
       "      <th rowspan=\"5\" valign=\"top\">1</th>\n",
       "      <th rowspan=\"5\" valign=\"top\">1</th>\n",
       "      <th>15</th>\n",
       "      <td>114</td>\n",
       "    </tr>\n",
       "    <tr>\n",
       "      <th>16</th>\n",
       "      <td>193</td>\n",
       "    </tr>\n",
       "    <tr>\n",
       "      <th>17</th>\n",
       "      <td>173</td>\n",
       "    </tr>\n",
       "    <tr>\n",
       "      <th>18</th>\n",
       "      <td>107</td>\n",
       "    </tr>\n",
       "    <tr>\n",
       "      <th>19</th>\n",
       "      <td>89</td>\n",
       "    </tr>\n",
       "  </tbody>\n",
       "</table>\n",
       "</div>"
      ],
      "text/plain": [
       "                                                 TUCASEID\n",
       "TUTIER1CODE TUTIER2CODE TUTIER3CODE TESEX TEAGE          \n",
       "1           1           1           1     15          114\n",
       "                                          16          193\n",
       "                                          17          173\n",
       "                                          18          107\n",
       "                                          19           89"
      ]
     },
     "execution_count": 159,
     "metadata": {},
     "output_type": "execute_result"
    }
   ],
   "source": [
    "ar_copy = act_rost.copy()\n",
    "ar_copy.drop(['TUACTDUR', 'TUACTIVITY_N', 'TRCODE', 'TRTIER2'], 1, inplace=True)\n",
    "activities_count = ar_copy.groupby(['TUTIER1CODE', 'TUTIER2CODE', 'TUTIER3CODE', 'TESEX', 'TEAGE']).count()\n",
    "activities_count.head()"
   ]
  },
  {
   "cell_type": "code",
   "execution_count": 160,
   "metadata": {
    "collapsed": false
   },
   "outputs": [
    {
     "data": {
      "text/plain": [
       "TUCASEID    156\n",
       "dtype: int64"
      ]
     },
     "execution_count": 160,
     "metadata": {},
     "output_type": "execute_result"
    }
   ],
   "source": [
    "activities_count.loc[15].loc[1].loc[1].sum()"
   ]
  },
  {
   "cell_type": "markdown",
   "metadata": {},
   "source": [
    "There are 116 reports of 15-year-old males sleeping on the day in question. Total number of male 15-year-olds surveyed = 56."
   ]
  },
  {
   "cell_type": "code",
   "execution_count": 161,
   "metadata": {
    "collapsed": false
   },
   "outputs": [
    {
     "data": {
      "text/html": [
       "<div>\n",
       "<table border=\"1\" class=\"dataframe\">\n",
       "  <thead>\n",
       "    <tr style=\"text-align: right;\">\n",
       "      <th></th>\n",
       "      <th></th>\n",
       "      <th>resp_count</th>\n",
       "    </tr>\n",
       "    <tr>\n",
       "      <th>TESEX</th>\n",
       "      <th>TEAGE</th>\n",
       "      <th></th>\n",
       "    </tr>\n",
       "  </thead>\n",
       "  <tbody>\n",
       "    <tr>\n",
       "      <th rowspan=\"5\" valign=\"top\">1</th>\n",
       "      <th>15</th>\n",
       "      <td>56</td>\n",
       "    </tr>\n",
       "    <tr>\n",
       "      <th>16</th>\n",
       "      <td>92</td>\n",
       "    </tr>\n",
       "    <tr>\n",
       "      <th>17</th>\n",
       "      <td>80</td>\n",
       "    </tr>\n",
       "    <tr>\n",
       "      <th>18</th>\n",
       "      <td>50</td>\n",
       "    </tr>\n",
       "    <tr>\n",
       "      <th>19</th>\n",
       "      <td>41</td>\n",
       "    </tr>\n",
       "  </tbody>\n",
       "</table>\n",
       "</div>"
      ],
      "text/plain": [
       "             resp_count\n",
       "TESEX TEAGE            \n",
       "1     15             56\n",
       "      16             92\n",
       "      17             80\n",
       "      18             50\n",
       "      19             41"
      ]
     },
     "execution_count": 161,
     "metadata": {},
     "output_type": "execute_result"
    }
   ],
   "source": [
    "r_counts = roster.groupby(['TESEX', 'TEAGE']).count()\n",
    "r_counts = r_counts.rename(columns={'TUCASEID': 'resp_count'})\n",
    "r_counts.head()"
   ]
  },
  {
   "cell_type": "code",
   "execution_count": 162,
   "metadata": {
    "collapsed": false
   },
   "outputs": [
    {
     "data": {
      "text/html": [
       "<div>\n",
       "<table border=\"1\" class=\"dataframe\">\n",
       "  <thead>\n",
       "    <tr style=\"text-align: right;\">\n",
       "      <th></th>\n",
       "      <th>TUTIER1CODE</th>\n",
       "      <th>TUTIER2CODE</th>\n",
       "      <th>TUTIER3CODE</th>\n",
       "      <th>TESEX</th>\n",
       "      <th>TEAGE</th>\n",
       "      <th>TUCASEID</th>\n",
       "      <th>reports_per_resp</th>\n",
       "    </tr>\n",
       "  </thead>\n",
       "  <tbody>\n",
       "    <tr>\n",
       "      <th>0</th>\n",
       "      <td>1</td>\n",
       "      <td>1</td>\n",
       "      <td>1</td>\n",
       "      <td>1</td>\n",
       "      <td>15</td>\n",
       "      <td>114</td>\n",
       "      <td>2.035714</td>\n",
       "    </tr>\n",
       "    <tr>\n",
       "      <th>1</th>\n",
       "      <td>1</td>\n",
       "      <td>1</td>\n",
       "      <td>2</td>\n",
       "      <td>1</td>\n",
       "      <td>15</td>\n",
       "      <td>2</td>\n",
       "      <td>0.035714</td>\n",
       "    </tr>\n",
       "    <tr>\n",
       "      <th>2</th>\n",
       "      <td>1</td>\n",
       "      <td>2</td>\n",
       "      <td>1</td>\n",
       "      <td>1</td>\n",
       "      <td>15</td>\n",
       "      <td>86</td>\n",
       "      <td>1.535714</td>\n",
       "    </tr>\n",
       "    <tr>\n",
       "      <th>3</th>\n",
       "      <td>1</td>\n",
       "      <td>3</td>\n",
       "      <td>1</td>\n",
       "      <td>1</td>\n",
       "      <td>15</td>\n",
       "      <td>1</td>\n",
       "      <td>0.017857</td>\n",
       "    </tr>\n",
       "    <tr>\n",
       "      <th>4</th>\n",
       "      <td>2</td>\n",
       "      <td>1</td>\n",
       "      <td>1</td>\n",
       "      <td>1</td>\n",
       "      <td>15</td>\n",
       "      <td>9</td>\n",
       "      <td>0.160714</td>\n",
       "    </tr>\n",
       "  </tbody>\n",
       "</table>\n",
       "</div>"
      ],
      "text/plain": [
       "   TUTIER1CODE  TUTIER2CODE  TUTIER3CODE  TESEX  TEAGE  TUCASEID  \\\n",
       "0            1            1            1      1     15       114   \n",
       "1            1            1            2      1     15         2   \n",
       "2            1            2            1      1     15        86   \n",
       "3            1            3            1      1     15         1   \n",
       "4            2            1            1      1     15         9   \n",
       "\n",
       "   reports_per_resp  \n",
       "0          2.035714  \n",
       "1          0.035714  \n",
       "2          1.535714  \n",
       "3          0.017857  \n",
       "4          0.160714  "
      ]
     },
     "execution_count": 162,
     "metadata": {},
     "output_type": "execute_result"
    }
   ],
   "source": [
    "# dunno = pd.merge(activities_count, r_counts, on=r_counts.index, how='outer')\n",
    "counts = r_counts.reset_index()\n",
    "act = activities_count.reset_index()\n",
    "c_activities = pd.merge(act, counts, on=['TESEX', 'TEAGE'], how='outer')\n",
    "c_activities['reports_per_resp'] = c_activities.TUCASEID / c_activities.resp_count\n",
    "c_activities.drop('resp_count', 1, inplace=True)\n",
    "c_activities.head()"
   ]
  },
  {
   "cell_type": "code",
   "execution_count": 163,
   "metadata": {
    "collapsed": false
   },
   "outputs": [
    {
     "data": {
      "text/html": [
       "<div>\n",
       "<table border=\"1\" class=\"dataframe\">\n",
       "  <thead>\n",
       "    <tr style=\"text-align: right;\">\n",
       "      <th></th>\n",
       "      <th>TUTIER1CODE</th>\n",
       "      <th>TUTIER2CODE</th>\n",
       "      <th>TUTIER3CODE</th>\n",
       "      <th>TESEX</th>\n",
       "      <th>TEAGE</th>\n",
       "      <th>TUACTDUR</th>\n",
       "    </tr>\n",
       "  </thead>\n",
       "  <tbody>\n",
       "    <tr>\n",
       "      <th>0</th>\n",
       "      <td>1</td>\n",
       "      <td>1</td>\n",
       "      <td>1</td>\n",
       "      <td>1</td>\n",
       "      <td>15</td>\n",
       "      <td>395.052632</td>\n",
       "    </tr>\n",
       "    <tr>\n",
       "      <th>1</th>\n",
       "      <td>1</td>\n",
       "      <td>1</td>\n",
       "      <td>1</td>\n",
       "      <td>1</td>\n",
       "      <td>16</td>\n",
       "      <td>387.792746</td>\n",
       "    </tr>\n",
       "    <tr>\n",
       "      <th>2</th>\n",
       "      <td>1</td>\n",
       "      <td>1</td>\n",
       "      <td>1</td>\n",
       "      <td>1</td>\n",
       "      <td>17</td>\n",
       "      <td>392.942197</td>\n",
       "    </tr>\n",
       "    <tr>\n",
       "      <th>3</th>\n",
       "      <td>1</td>\n",
       "      <td>1</td>\n",
       "      <td>1</td>\n",
       "      <td>1</td>\n",
       "      <td>18</td>\n",
       "      <td>378.654206</td>\n",
       "    </tr>\n",
       "    <tr>\n",
       "      <th>4</th>\n",
       "      <td>1</td>\n",
       "      <td>1</td>\n",
       "      <td>1</td>\n",
       "      <td>1</td>\n",
       "      <td>19</td>\n",
       "      <td>392.280899</td>\n",
       "    </tr>\n",
       "  </tbody>\n",
       "</table>\n",
       "</div>"
      ],
      "text/plain": [
       "   TUTIER1CODE  TUTIER2CODE  TUTIER3CODE  TESEX  TEAGE    TUACTDUR\n",
       "0            1            1            1      1     15  395.052632\n",
       "1            1            1            1      1     16  387.792746\n",
       "2            1            1            1      1     17  392.942197\n",
       "3            1            1            1      1     18  378.654206\n",
       "4            1            1            1      1     19  392.280899"
      ]
     },
     "execution_count": 163,
     "metadata": {},
     "output_type": "execute_result"
    }
   ],
   "source": [
    "ar_copy = act_rost.copy()\n",
    "ar_copy.drop(['TUCASEID', 'TUACTIVITY_N', 'TRCODE', 'TRTIER2'], 1, inplace=True)\n",
    "activities_dur = ar_copy.groupby(['TUTIER1CODE', 'TUTIER2CODE', 'TUTIER3CODE', 'TESEX', 'TEAGE']).mean()\n",
    "activities_dur.reset_index(inplace=True)\n",
    "activities_dur.head()"
   ]
  },
  {
   "cell_type": "code",
   "execution_count": 164,
   "metadata": {
    "collapsed": false
   },
   "outputs": [
    {
     "data": {
      "text/html": [
       "<div>\n",
       "<table border=\"1\" class=\"dataframe\">\n",
       "  <thead>\n",
       "    <tr style=\"text-align: right;\">\n",
       "      <th></th>\n",
       "      <th>TUTIER1CODE</th>\n",
       "      <th>TUTIER2CODE</th>\n",
       "      <th>TUTIER3CODE</th>\n",
       "      <th>TESEX</th>\n",
       "      <th>TEAGE</th>\n",
       "      <th>reports</th>\n",
       "      <th>reports_per_resp</th>\n",
       "      <th>duration</th>\n",
       "    </tr>\n",
       "  </thead>\n",
       "  <tbody>\n",
       "    <tr>\n",
       "      <th>0</th>\n",
       "      <td>1</td>\n",
       "      <td>1</td>\n",
       "      <td>1</td>\n",
       "      <td>1</td>\n",
       "      <td>15</td>\n",
       "      <td>114</td>\n",
       "      <td>2.035714</td>\n",
       "      <td>395.052632</td>\n",
       "    </tr>\n",
       "    <tr>\n",
       "      <th>1</th>\n",
       "      <td>1</td>\n",
       "      <td>1</td>\n",
       "      <td>2</td>\n",
       "      <td>1</td>\n",
       "      <td>15</td>\n",
       "      <td>2</td>\n",
       "      <td>0.035714</td>\n",
       "      <td>292.500000</td>\n",
       "    </tr>\n",
       "    <tr>\n",
       "      <th>2</th>\n",
       "      <td>1</td>\n",
       "      <td>2</td>\n",
       "      <td>1</td>\n",
       "      <td>1</td>\n",
       "      <td>15</td>\n",
       "      <td>86</td>\n",
       "      <td>1.535714</td>\n",
       "      <td>20.593023</td>\n",
       "    </tr>\n",
       "    <tr>\n",
       "      <th>3</th>\n",
       "      <td>1</td>\n",
       "      <td>3</td>\n",
       "      <td>1</td>\n",
       "      <td>1</td>\n",
       "      <td>15</td>\n",
       "      <td>1</td>\n",
       "      <td>0.017857</td>\n",
       "      <td>2.000000</td>\n",
       "    </tr>\n",
       "    <tr>\n",
       "      <th>4</th>\n",
       "      <td>2</td>\n",
       "      <td>1</td>\n",
       "      <td>1</td>\n",
       "      <td>1</td>\n",
       "      <td>15</td>\n",
       "      <td>9</td>\n",
       "      <td>0.160714</td>\n",
       "      <td>23.333333</td>\n",
       "    </tr>\n",
       "  </tbody>\n",
       "</table>\n",
       "</div>"
      ],
      "text/plain": [
       "   TUTIER1CODE  TUTIER2CODE  TUTIER3CODE  TESEX  TEAGE  reports  \\\n",
       "0            1            1            1      1     15      114   \n",
       "1            1            1            2      1     15        2   \n",
       "2            1            2            1      1     15       86   \n",
       "3            1            3            1      1     15        1   \n",
       "4            2            1            1      1     15        9   \n",
       "\n",
       "   reports_per_resp    duration  \n",
       "0          2.035714  395.052632  \n",
       "1          0.035714  292.500000  \n",
       "2          1.535714   20.593023  \n",
       "3          0.017857    2.000000  \n",
       "4          0.160714   23.333333  "
      ]
     },
     "execution_count": 164,
     "metadata": {},
     "output_type": "execute_result"
    }
   ],
   "source": [
    "the_activities = pd.merge(c_activities, activities_dur, how='outer')\n",
    "the_activities = the_activities.rename(columns={'TUCASEID': 'reports', 'TUACTDUR': 'duration'})\n",
    "the_activities.head()"
   ]
  },
  {
   "cell_type": "code",
   "execution_count": 165,
   "metadata": {
    "collapsed": false
   },
   "outputs": [
    {
     "data": {
      "text/html": [
       "<div>\n",
       "<table border=\"1\" class=\"dataframe\">\n",
       "  <thead>\n",
       "    <tr style=\"text-align: right;\">\n",
       "      <th></th>\n",
       "      <th></th>\n",
       "      <th></th>\n",
       "      <th></th>\n",
       "      <th></th>\n",
       "      <th>reports</th>\n",
       "      <th>reports_per_resp</th>\n",
       "      <th>duration</th>\n",
       "    </tr>\n",
       "    <tr>\n",
       "      <th>TUTIER1CODE</th>\n",
       "      <th>TUTIER2CODE</th>\n",
       "      <th>TUTIER3CODE</th>\n",
       "      <th>TESEX</th>\n",
       "      <th>TEAGE</th>\n",
       "      <th></th>\n",
       "      <th></th>\n",
       "      <th></th>\n",
       "    </tr>\n",
       "  </thead>\n",
       "  <tbody>\n",
       "    <tr>\n",
       "      <th rowspan=\"30\" valign=\"top\">1</th>\n",
       "      <th rowspan=\"30\" valign=\"top\">1</th>\n",
       "      <th rowspan=\"30\" valign=\"top\">1</th>\n",
       "      <th rowspan=\"30\" valign=\"top\">1</th>\n",
       "      <th>15</th>\n",
       "      <td>114</td>\n",
       "      <td>2.035714</td>\n",
       "      <td>395.052632</td>\n",
       "    </tr>\n",
       "    <tr>\n",
       "      <th>16</th>\n",
       "      <td>193</td>\n",
       "      <td>2.097826</td>\n",
       "      <td>387.792746</td>\n",
       "    </tr>\n",
       "    <tr>\n",
       "      <th>17</th>\n",
       "      <td>173</td>\n",
       "      <td>2.162500</td>\n",
       "      <td>392.942197</td>\n",
       "    </tr>\n",
       "    <tr>\n",
       "      <th>18</th>\n",
       "      <td>107</td>\n",
       "      <td>2.140000</td>\n",
       "      <td>378.654206</td>\n",
       "    </tr>\n",
       "    <tr>\n",
       "      <th>19</th>\n",
       "      <td>89</td>\n",
       "      <td>2.170732</td>\n",
       "      <td>392.280899</td>\n",
       "    </tr>\n",
       "    <tr>\n",
       "      <th>20</th>\n",
       "      <td>95</td>\n",
       "      <td>2.111111</td>\n",
       "      <td>383.400000</td>\n",
       "    </tr>\n",
       "    <tr>\n",
       "      <th>21</th>\n",
       "      <td>58</td>\n",
       "      <td>2.000000</td>\n",
       "      <td>418.586207</td>\n",
       "    </tr>\n",
       "    <tr>\n",
       "      <th>22</th>\n",
       "      <td>80</td>\n",
       "      <td>2.051282</td>\n",
       "      <td>386.325000</td>\n",
       "    </tr>\n",
       "    <tr>\n",
       "      <th>23</th>\n",
       "      <td>108</td>\n",
       "      <td>1.963636</td>\n",
       "      <td>372.138889</td>\n",
       "    </tr>\n",
       "    <tr>\n",
       "      <th>24</th>\n",
       "      <td>94</td>\n",
       "      <td>2.043478</td>\n",
       "      <td>370.127660</td>\n",
       "    </tr>\n",
       "    <tr>\n",
       "      <th>25</th>\n",
       "      <td>97</td>\n",
       "      <td>2.155556</td>\n",
       "      <td>359.000000</td>\n",
       "    </tr>\n",
       "    <tr>\n",
       "      <th>26</th>\n",
       "      <td>144</td>\n",
       "      <td>2.086957</td>\n",
       "      <td>371.437500</td>\n",
       "    </tr>\n",
       "    <tr>\n",
       "      <th>27</th>\n",
       "      <td>129</td>\n",
       "      <td>2.047619</td>\n",
       "      <td>340.697674</td>\n",
       "    </tr>\n",
       "    <tr>\n",
       "      <th>28</th>\n",
       "      <td>168</td>\n",
       "      <td>2.100000</td>\n",
       "      <td>328.755952</td>\n",
       "    </tr>\n",
       "    <tr>\n",
       "      <th>29</th>\n",
       "      <td>143</td>\n",
       "      <td>2.072464</td>\n",
       "      <td>341.104895</td>\n",
       "    </tr>\n",
       "    <tr>\n",
       "      <th>30</th>\n",
       "      <td>173</td>\n",
       "      <td>2.035294</td>\n",
       "      <td>335.531792</td>\n",
       "    </tr>\n",
       "    <tr>\n",
       "      <th>31</th>\n",
       "      <td>156</td>\n",
       "      <td>1.950000</td>\n",
       "      <td>346.429487</td>\n",
       "    </tr>\n",
       "    <tr>\n",
       "      <th>32</th>\n",
       "      <td>201</td>\n",
       "      <td>1.990099</td>\n",
       "      <td>335.223881</td>\n",
       "    </tr>\n",
       "    <tr>\n",
       "      <th>33</th>\n",
       "      <td>170</td>\n",
       "      <td>1.954023</td>\n",
       "      <td>342.252941</td>\n",
       "    </tr>\n",
       "    <tr>\n",
       "      <th>34</th>\n",
       "      <td>236</td>\n",
       "      <td>2.107143</td>\n",
       "      <td>318.343220</td>\n",
       "    </tr>\n",
       "    <tr>\n",
       "      <th>35</th>\n",
       "      <td>174</td>\n",
       "      <td>2.023256</td>\n",
       "      <td>317.172414</td>\n",
       "    </tr>\n",
       "    <tr>\n",
       "      <th>36</th>\n",
       "      <td>184</td>\n",
       "      <td>2.067416</td>\n",
       "      <td>328.141304</td>\n",
       "    </tr>\n",
       "    <tr>\n",
       "      <th>37</th>\n",
       "      <td>172</td>\n",
       "      <td>2.000000</td>\n",
       "      <td>327.604651</td>\n",
       "    </tr>\n",
       "    <tr>\n",
       "      <th>38</th>\n",
       "      <td>189</td>\n",
       "      <td>1.948454</td>\n",
       "      <td>325.216931</td>\n",
       "    </tr>\n",
       "    <tr>\n",
       "      <th>39</th>\n",
       "      <td>204</td>\n",
       "      <td>2.019802</td>\n",
       "      <td>327.539216</td>\n",
       "    </tr>\n",
       "    <tr>\n",
       "      <th>40</th>\n",
       "      <td>204</td>\n",
       "      <td>2.000000</td>\n",
       "      <td>331.250000</td>\n",
       "    </tr>\n",
       "    <tr>\n",
       "      <th>41</th>\n",
       "      <td>148</td>\n",
       "      <td>1.973333</td>\n",
       "      <td>335.432432</td>\n",
       "    </tr>\n",
       "    <tr>\n",
       "      <th>42</th>\n",
       "      <td>193</td>\n",
       "      <td>1.892157</td>\n",
       "      <td>344.652850</td>\n",
       "    </tr>\n",
       "    <tr>\n",
       "      <th>43</th>\n",
       "      <td>209</td>\n",
       "      <td>2.090000</td>\n",
       "      <td>328.047847</td>\n",
       "    </tr>\n",
       "    <tr>\n",
       "      <th>44</th>\n",
       "      <td>201</td>\n",
       "      <td>2.072165</td>\n",
       "      <td>308.019900</td>\n",
       "    </tr>\n",
       "    <tr>\n",
       "      <th>...</th>\n",
       "      <th>...</th>\n",
       "      <th>...</th>\n",
       "      <th>...</th>\n",
       "      <th>...</th>\n",
       "      <td>...</td>\n",
       "      <td>...</td>\n",
       "      <td>...</td>\n",
       "    </tr>\n",
       "    <tr>\n",
       "      <th rowspan=\"30\" valign=\"top\">50</th>\n",
       "      <th rowspan=\"30\" valign=\"top\">1</th>\n",
       "      <th>6</th>\n",
       "      <th>2</th>\n",
       "      <th>85</th>\n",
       "      <td>24</td>\n",
       "      <td>0.130435</td>\n",
       "      <td>78.500000</td>\n",
       "    </tr>\n",
       "    <tr>\n",
       "      <th rowspan=\"29\" valign=\"top\">7</th>\n",
       "      <th rowspan=\"7\" valign=\"top\">1</th>\n",
       "      <th>25</th>\n",
       "      <td>1</td>\n",
       "      <td>0.022222</td>\n",
       "      <td>5.000000</td>\n",
       "    </tr>\n",
       "    <tr>\n",
       "      <th>39</th>\n",
       "      <td>2</td>\n",
       "      <td>0.019802</td>\n",
       "      <td>1.000000</td>\n",
       "    </tr>\n",
       "    <tr>\n",
       "      <th>51</th>\n",
       "      <td>2</td>\n",
       "      <td>0.021053</td>\n",
       "      <td>1.000000</td>\n",
       "    </tr>\n",
       "    <tr>\n",
       "      <th>63</th>\n",
       "      <td>1</td>\n",
       "      <td>0.014493</td>\n",
       "      <td>2.000000</td>\n",
       "    </tr>\n",
       "    <tr>\n",
       "      <th>69</th>\n",
       "      <td>1</td>\n",
       "      <td>0.017544</td>\n",
       "      <td>60.000000</td>\n",
       "    </tr>\n",
       "    <tr>\n",
       "      <th>71</th>\n",
       "      <td>1</td>\n",
       "      <td>0.016393</td>\n",
       "      <td>5.000000</td>\n",
       "    </tr>\n",
       "    <tr>\n",
       "      <th>80</th>\n",
       "      <td>1</td>\n",
       "      <td>0.008197</td>\n",
       "      <td>60.000000</td>\n",
       "    </tr>\n",
       "    <tr>\n",
       "      <th rowspan=\"22\" valign=\"top\">2</th>\n",
       "      <th>16</th>\n",
       "      <td>1</td>\n",
       "      <td>0.014706</td>\n",
       "      <td>30.000000</td>\n",
       "    </tr>\n",
       "    <tr>\n",
       "      <th>17</th>\n",
       "      <td>2</td>\n",
       "      <td>0.031746</td>\n",
       "      <td>17.500000</td>\n",
       "    </tr>\n",
       "    <tr>\n",
       "      <th>18</th>\n",
       "      <td>1</td>\n",
       "      <td>0.017857</td>\n",
       "      <td>2.000000</td>\n",
       "    </tr>\n",
       "    <tr>\n",
       "      <th>21</th>\n",
       "      <td>2</td>\n",
       "      <td>0.036364</td>\n",
       "      <td>2.500000</td>\n",
       "    </tr>\n",
       "    <tr>\n",
       "      <th>35</th>\n",
       "      <td>2</td>\n",
       "      <td>0.016667</td>\n",
       "      <td>10.500000</td>\n",
       "    </tr>\n",
       "    <tr>\n",
       "      <th>40</th>\n",
       "      <td>2</td>\n",
       "      <td>0.018182</td>\n",
       "      <td>7.500000</td>\n",
       "    </tr>\n",
       "    <tr>\n",
       "      <th>41</th>\n",
       "      <td>1</td>\n",
       "      <td>0.008000</td>\n",
       "      <td>30.000000</td>\n",
       "    </tr>\n",
       "    <tr>\n",
       "      <th>44</th>\n",
       "      <td>1</td>\n",
       "      <td>0.007407</td>\n",
       "      <td>870.000000</td>\n",
       "    </tr>\n",
       "    <tr>\n",
       "      <th>46</th>\n",
       "      <td>1</td>\n",
       "      <td>0.008772</td>\n",
       "      <td>60.000000</td>\n",
       "    </tr>\n",
       "    <tr>\n",
       "      <th>47</th>\n",
       "      <td>1</td>\n",
       "      <td>0.009434</td>\n",
       "      <td>5.000000</td>\n",
       "    </tr>\n",
       "    <tr>\n",
       "      <th>48</th>\n",
       "      <td>2</td>\n",
       "      <td>0.021053</td>\n",
       "      <td>3.000000</td>\n",
       "    </tr>\n",
       "    <tr>\n",
       "      <th>49</th>\n",
       "      <td>1</td>\n",
       "      <td>0.009174</td>\n",
       "      <td>2.000000</td>\n",
       "    </tr>\n",
       "    <tr>\n",
       "      <th>52</th>\n",
       "      <td>2</td>\n",
       "      <td>0.017544</td>\n",
       "      <td>5.000000</td>\n",
       "    </tr>\n",
       "    <tr>\n",
       "      <th>54</th>\n",
       "      <td>1</td>\n",
       "      <td>0.009346</td>\n",
       "      <td>30.000000</td>\n",
       "    </tr>\n",
       "    <tr>\n",
       "      <th>55</th>\n",
       "      <td>1</td>\n",
       "      <td>0.009009</td>\n",
       "      <td>5.000000</td>\n",
       "    </tr>\n",
       "    <tr>\n",
       "      <th>65</th>\n",
       "      <td>1</td>\n",
       "      <td>0.008929</td>\n",
       "      <td>5.000000</td>\n",
       "    </tr>\n",
       "    <tr>\n",
       "      <th>67</th>\n",
       "      <td>6</td>\n",
       "      <td>0.053571</td>\n",
       "      <td>6.333333</td>\n",
       "    </tr>\n",
       "    <tr>\n",
       "      <th>70</th>\n",
       "      <td>3</td>\n",
       "      <td>0.037975</td>\n",
       "      <td>5.000000</td>\n",
       "    </tr>\n",
       "    <tr>\n",
       "      <th>71</th>\n",
       "      <td>2</td>\n",
       "      <td>0.022989</td>\n",
       "      <td>5.000000</td>\n",
       "    </tr>\n",
       "    <tr>\n",
       "      <th>76</th>\n",
       "      <td>1</td>\n",
       "      <td>0.018182</td>\n",
       "      <td>10.000000</td>\n",
       "    </tr>\n",
       "    <tr>\n",
       "      <th>80</th>\n",
       "      <td>2</td>\n",
       "      <td>0.009346</td>\n",
       "      <td>1.500000</td>\n",
       "    </tr>\n",
       "    <tr>\n",
       "      <th>85</th>\n",
       "      <td>2</td>\n",
       "      <td>0.010870</td>\n",
       "      <td>2.000000</td>\n",
       "    </tr>\n",
       "  </tbody>\n",
       "</table>\n",
       "<p>16387 rows × 3 columns</p>\n",
       "</div>"
      ],
      "text/plain": [
       "                                                 reports  reports_per_resp  \\\n",
       "TUTIER1CODE TUTIER2CODE TUTIER3CODE TESEX TEAGE                              \n",
       "1           1           1           1     15         114          2.035714   \n",
       "                                          16         193          2.097826   \n",
       "                                          17         173          2.162500   \n",
       "                                          18         107          2.140000   \n",
       "                                          19          89          2.170732   \n",
       "                                          20          95          2.111111   \n",
       "                                          21          58          2.000000   \n",
       "                                          22          80          2.051282   \n",
       "                                          23         108          1.963636   \n",
       "                                          24          94          2.043478   \n",
       "                                          25          97          2.155556   \n",
       "                                          26         144          2.086957   \n",
       "                                          27         129          2.047619   \n",
       "                                          28         168          2.100000   \n",
       "                                          29         143          2.072464   \n",
       "                                          30         173          2.035294   \n",
       "                                          31         156          1.950000   \n",
       "                                          32         201          1.990099   \n",
       "                                          33         170          1.954023   \n",
       "                                          34         236          2.107143   \n",
       "                                          35         174          2.023256   \n",
       "                                          36         184          2.067416   \n",
       "                                          37         172          2.000000   \n",
       "                                          38         189          1.948454   \n",
       "                                          39         204          2.019802   \n",
       "                                          40         204          2.000000   \n",
       "                                          41         148          1.973333   \n",
       "                                          42         193          1.892157   \n",
       "                                          43         209          2.090000   \n",
       "                                          44         201          2.072165   \n",
       "...                                                  ...               ...   \n",
       "50          1           6           2     85          24          0.130435   \n",
       "                        7           1     25           1          0.022222   \n",
       "                                          39           2          0.019802   \n",
       "                                          51           2          0.021053   \n",
       "                                          63           1          0.014493   \n",
       "                                          69           1          0.017544   \n",
       "                                          71           1          0.016393   \n",
       "                                          80           1          0.008197   \n",
       "                                    2     16           1          0.014706   \n",
       "                                          17           2          0.031746   \n",
       "                                          18           1          0.017857   \n",
       "                                          21           2          0.036364   \n",
       "                                          35           2          0.016667   \n",
       "                                          40           2          0.018182   \n",
       "                                          41           1          0.008000   \n",
       "                                          44           1          0.007407   \n",
       "                                          46           1          0.008772   \n",
       "                                          47           1          0.009434   \n",
       "                                          48           2          0.021053   \n",
       "                                          49           1          0.009174   \n",
       "                                          52           2          0.017544   \n",
       "                                          54           1          0.009346   \n",
       "                                          55           1          0.009009   \n",
       "                                          65           1          0.008929   \n",
       "                                          67           6          0.053571   \n",
       "                                          70           3          0.037975   \n",
       "                                          71           2          0.022989   \n",
       "                                          76           1          0.018182   \n",
       "                                          80           2          0.009346   \n",
       "                                          85           2          0.010870   \n",
       "\n",
       "                                                   duration  \n",
       "TUTIER1CODE TUTIER2CODE TUTIER3CODE TESEX TEAGE              \n",
       "1           1           1           1     15     395.052632  \n",
       "                                          16     387.792746  \n",
       "                                          17     392.942197  \n",
       "                                          18     378.654206  \n",
       "                                          19     392.280899  \n",
       "                                          20     383.400000  \n",
       "                                          21     418.586207  \n",
       "                                          22     386.325000  \n",
       "                                          23     372.138889  \n",
       "                                          24     370.127660  \n",
       "                                          25     359.000000  \n",
       "                                          26     371.437500  \n",
       "                                          27     340.697674  \n",
       "                                          28     328.755952  \n",
       "                                          29     341.104895  \n",
       "                                          30     335.531792  \n",
       "                                          31     346.429487  \n",
       "                                          32     335.223881  \n",
       "                                          33     342.252941  \n",
       "                                          34     318.343220  \n",
       "                                          35     317.172414  \n",
       "                                          36     328.141304  \n",
       "                                          37     327.604651  \n",
       "                                          38     325.216931  \n",
       "                                          39     327.539216  \n",
       "                                          40     331.250000  \n",
       "                                          41     335.432432  \n",
       "                                          42     344.652850  \n",
       "                                          43     328.047847  \n",
       "                                          44     308.019900  \n",
       "...                                                     ...  \n",
       "50          1           6           2     85      78.500000  \n",
       "                        7           1     25       5.000000  \n",
       "                                          39       1.000000  \n",
       "                                          51       1.000000  \n",
       "                                          63       2.000000  \n",
       "                                          69      60.000000  \n",
       "                                          71       5.000000  \n",
       "                                          80      60.000000  \n",
       "                                    2     16      30.000000  \n",
       "                                          17      17.500000  \n",
       "                                          18       2.000000  \n",
       "                                          21       2.500000  \n",
       "                                          35      10.500000  \n",
       "                                          40       7.500000  \n",
       "                                          41      30.000000  \n",
       "                                          44     870.000000  \n",
       "                                          46      60.000000  \n",
       "                                          47       5.000000  \n",
       "                                          48       3.000000  \n",
       "                                          49       2.000000  \n",
       "                                          52       5.000000  \n",
       "                                          54      30.000000  \n",
       "                                          55       5.000000  \n",
       "                                          65       5.000000  \n",
       "                                          67       6.333333  \n",
       "                                          70       5.000000  \n",
       "                                          71       5.000000  \n",
       "                                          76      10.000000  \n",
       "                                          80       1.500000  \n",
       "                                          85       2.000000  \n",
       "\n",
       "[16387 rows x 3 columns]"
      ]
     },
     "execution_count": 165,
     "metadata": {},
     "output_type": "execute_result"
    }
   ],
   "source": [
    "grouped_activities = the_activities.groupby(['TUTIER1CODE', 'TUTIER2CODE', 'TUTIER3CODE', 'TESEX', 'TEAGE']).sum()\n",
    "grouped_activities"
   ]
  },
  {
   "cell_type": "markdown",
   "metadata": {},
   "source": [
    "Make up of people who reported socializing/comunicating (coded 120101) with others:"
   ]
  },
  {
   "cell_type": "code",
   "execution_count": 166,
   "metadata": {
    "collapsed": false
   },
   "outputs": [
    {
     "data": {
      "text/plain": [
       "reports             59.089552\n",
       "reports_per_resp     0.624162\n",
       "duration            68.688531\n",
       "dtype: float64"
      ]
     },
     "execution_count": 166,
     "metadata": {},
     "output_type": "execute_result"
    }
   ],
   "source": [
    "grouped_activities.loc[12].loc[1].loc[1].loc[2].mean()"
   ]
  },
  {
   "cell_type": "code",
   "execution_count": 167,
   "metadata": {
    "collapsed": false
   },
   "outputs": [
    {
     "data": {
      "text/plain": [
       "0.53476691446718894"
      ]
     },
     "execution_count": 167,
     "metadata": {},
     "output_type": "execute_result"
    }
   ],
   "source": [
    "grouped_activities.loc[12].loc[1].loc[1].loc[1].mean().reports_per_resp"
   ]
  },
  {
   "cell_type": "markdown",
   "metadata": {},
   "source": [
    "53% of men reported socializing/communicating for an average duration of 78 minutes.<br>\n",
    "62% of women reported socializing/communicating for an average duratino of 68 minutes."
   ]
  },
  {
   "cell_type": "code",
   "execution_count": 57,
   "metadata": {
    "collapsed": false
   },
   "outputs": [
    {
     "data": {
      "text/plain": [
       "reports             17.474157\n",
       "reports_per_resp     0.185449\n",
       "duration            53.939651\n",
       "dtype: float64"
      ]
     },
     "execution_count": 57,
     "metadata": {},
     "output_type": "execute_result"
    }
   ],
   "source": [
    "grouped_activities.loc[2].loc[1].mean()"
   ]
  },
  {
   "cell_type": "markdown",
   "metadata": {},
   "source": [
    "Overall, 18% of people reported doing housework."
   ]
  },
  {
   "cell_type": "code",
   "execution_count": 58,
   "metadata": {
    "collapsed": false
   },
   "outputs": [
    {
     "data": {
      "text/plain": [
       "reports             14.477612\n",
       "reports_per_resp     0.187805\n",
       "duration            71.971235\n",
       "dtype: float64"
      ]
     },
     "execution_count": 58,
     "metadata": {},
     "output_type": "execute_result"
    }
   ],
   "source": [
    "grouped_activities.loc[2].loc[1].loc[1].loc[1].mean()"
   ]
  },
  {
   "cell_type": "markdown",
   "metadata": {},
   "source": [
    "18.8% of male respondents reported interior house cleaning."
   ]
  },
  {
   "cell_type": "code",
   "execution_count": 59,
   "metadata": {
    "collapsed": false
   },
   "outputs": [
    {
     "data": {
      "text/plain": [
       "reports             41.194030\n",
       "reports_per_resp     0.418484\n",
       "duration            74.556546\n",
       "dtype: float64"
      ]
     },
     "execution_count": 59,
     "metadata": {},
     "output_type": "execute_result"
    }
   ],
   "source": [
    "grouped_activities.loc[2].loc[1].loc[1].loc[2].mean()"
   ]
  },
  {
   "cell_type": "markdown",
   "metadata": {},
   "source": [
    "41.8 % of women reported interior house cleaning."
   ]
  },
  {
   "cell_type": "code",
   "execution_count": 60,
   "metadata": {
    "collapsed": false
   },
   "outputs": [
    {
     "data": {
      "image/png": "[encoded data removed]",
      "text/plain": [
       "<matplotlib.figure.Figure at 0x110430b38>"
      ]
     },
     "metadata": {},
     "output_type": "display_data"
    }
   ],
   "source": [
    "w = grouped_activities.loc[2].loc[1].loc[1].loc[2]['reports_per_resp']\n",
    "w.head()\n",
    "w.plot(kind='hist')\n",
    "plt.show()"
   ]
  },
  {
   "cell_type": "code",
   "execution_count": 121,
   "metadata": {
    "collapsed": false
   },
   "outputs": [
    {
     "data": {
      "image/png": "[encoded data removed]",
      "text/plain": [
       "<matplotlib.figure.Figure at 0x110391748>"
      ]
     },
     "metadata": {},
     "output_type": "display_data"
    }
   ],
   "source": [
    "m = grouped_activities.loc[2].loc[1].loc[1].loc[1]['reports_per_resp']\n",
    "m.head()\n",
    "m.plot(kind='hist')\n",
    "plt.show()"
   ]
  },
  {
   "cell_type": "markdown",
   "metadata": {},
   "source": [
    "These histograms show the most common percentage of repsondants that reported interior house cleaning across age groups."
   ]
  },
  {
   "cell_type": "code",
   "execution_count": 62,
   "metadata": {
    "collapsed": false
   },
   "outputs": [
    {
     "data": {
      "image/png": "[encoded data removed]",
      "text/plain": [
       "<matplotlib.figure.Figure at 0x1103f9828>"
      ]
     },
     "metadata": {},
     "output_type": "display_data"
    }
   ],
   "source": [
    "w.plot(kind='line', c='hotpink')\n",
    "m.plot(kind='line')\n",
    "plt.title('Interior House Cleaning\\n Women vs. Men')\n",
    "plt.xlabel('Age')\n",
    "plt.ylabel('% of respondants reporting cleaning')\n",
    "plt.show()"
   ]
  },
  {
   "cell_type": "markdown",
   "metadata": {},
   "source": [
    "This line graph shows that women consitently do more interior cleaning than men at any age and that older people do more housework than younger people."
   ]
  },
  {
   "cell_type": "code",
   "execution_count": 63,
   "metadata": {
    "collapsed": false
   },
   "outputs": [
    {
     "data": {
      "text/html": [
       "<div>\n",
       "<table border=\"1\" class=\"dataframe\">\n",
       "  <thead>\n",
       "    <tr style=\"text-align: right;\">\n",
       "      <th></th>\n",
       "      <th>tucaseid</th>\n",
       "      <th>TUFINLWGT</th>\n",
       "      <th>TRYHHCHILD</th>\n",
       "      <th>TEAGE</th>\n",
       "      <th>TESEX</th>\n",
       "      <th>PEEDUCA</th>\n",
       "      <th>PTDTRACE</th>\n",
       "      <th>PEHSPNON</th>\n",
       "      <th>GTMETSTA</th>\n",
       "      <th>TELFS</th>\n",
       "      <th>...</th>\n",
       "      <th>t181601</th>\n",
       "      <th>t181699</th>\n",
       "      <th>t181801</th>\n",
       "      <th>t181899</th>\n",
       "      <th>t189999</th>\n",
       "      <th>t500101</th>\n",
       "      <th>t500103</th>\n",
       "      <th>t500105</th>\n",
       "      <th>t500106</th>\n",
       "      <th>t500107</th>\n",
       "    </tr>\n",
       "  </thead>\n",
       "  <tbody>\n",
       "    <tr>\n",
       "      <th>tucaseid</th>\n",
       "      <td>1.000000</td>\n",
       "      <td>0.032235</td>\n",
       "      <td>0.006124</td>\n",
       "      <td>-0.007162</td>\n",
       "      <td>-0.017115</td>\n",
       "      <td>-0.014749</td>\n",
       "      <td>0.000874</td>\n",
       "      <td>-0.006381</td>\n",
       "      <td>0.014979</td>\n",
       "      <td>-0.010093</td>\n",
       "      <td>...</td>\n",
       "      <td>-0.005859</td>\n",
       "      <td>-0.006674</td>\n",
       "      <td>-0.005857</td>\n",
       "      <td>-0.009457</td>\n",
       "      <td>-0.004173</td>\n",
       "      <td>-0.040702</td>\n",
       "      <td>-0.016699</td>\n",
       "      <td>0.002191</td>\n",
       "      <td>-0.017501</td>\n",
       "      <td>-0.009540</td>\n",
       "    </tr>\n",
       "    <tr>\n",
       "      <th>TUFINLWGT</th>\n",
       "      <td>0.032235</td>\n",
       "      <td>1.000000</td>\n",
       "      <td>-0.020603</td>\n",
       "      <td>-0.213174</td>\n",
       "      <td>-0.093590</td>\n",
       "      <td>-0.135534</td>\n",
       "      <td>-0.004744</td>\n",
       "      <td>-0.025933</td>\n",
       "      <td>-0.011965</td>\n",
       "      <td>-0.027283</td>\n",
       "      <td>...</td>\n",
       "      <td>-0.004466</td>\n",
       "      <td>0.001674</td>\n",
       "      <td>-0.008920</td>\n",
       "      <td>-0.008441</td>\n",
       "      <td>-0.008630</td>\n",
       "      <td>0.005873</td>\n",
       "      <td>0.001493</td>\n",
       "      <td>0.010360</td>\n",
       "      <td>-0.017711</td>\n",
       "      <td>-0.006392</td>\n",
       "    </tr>\n",
       "    <tr>\n",
       "      <th>TRYHHCHILD</th>\n",
       "      <td>0.006124</td>\n",
       "      <td>-0.020603</td>\n",
       "      <td>1.000000</td>\n",
       "      <td>-0.365897</td>\n",
       "      <td>0.004457</td>\n",
       "      <td>-0.080447</td>\n",
       "      <td>0.023713</td>\n",
       "      <td>-0.032566</td>\n",
       "      <td>-0.003213</td>\n",
       "      <td>-0.127396</td>\n",
       "      <td>...</td>\n",
       "      <td>-0.003802</td>\n",
       "      <td>-0.002671</td>\n",
       "      <td>-0.001719</td>\n",
       "      <td>0.003602</td>\n",
       "      <td>0.020722</td>\n",
       "      <td>0.015719</td>\n",
       "      <td>0.013646</td>\n",
       "      <td>0.000088</td>\n",
       "      <td>-0.035564</td>\n",
       "      <td>0.020727</td>\n",
       "    </tr>\n",
       "    <tr>\n",
       "      <th>TEAGE</th>\n",
       "      <td>-0.007162</td>\n",
       "      <td>-0.213174</td>\n",
       "      <td>-0.365897</td>\n",
       "      <td>1.000000</td>\n",
       "      <td>0.051919</td>\n",
       "      <td>0.023732</td>\n",
       "      <td>-0.077561</td>\n",
       "      <td>0.128753</td>\n",
       "      <td>0.040644</td>\n",
       "      <td>0.358194</td>\n",
       "      <td>...</td>\n",
       "      <td>0.002560</td>\n",
       "      <td>-0.007163</td>\n",
       "      <td>-0.008693</td>\n",
       "      <td>0.006390</td>\n",
       "      <td>-0.002466</td>\n",
       "      <td>-0.012960</td>\n",
       "      <td>-0.012961</td>\n",
       "      <td>-0.018435</td>\n",
       "      <td>0.099584</td>\n",
       "      <td>-0.000314</td>\n",
       "    </tr>\n",
       "    <tr>\n",
       "      <th>TESEX</th>\n",
       "      <td>-0.017115</td>\n",
       "      <td>-0.093590</td>\n",
       "      <td>0.004457</td>\n",
       "      <td>0.051919</td>\n",
       "      <td>1.000000</td>\n",
       "      <td>0.014751</td>\n",
       "      <td>-0.008349</td>\n",
       "      <td>0.005778</td>\n",
       "      <td>-0.008446</td>\n",
       "      <td>0.148272</td>\n",
       "      <td>...</td>\n",
       "      <td>-0.001596</td>\n",
       "      <td>0.008267</td>\n",
       "      <td>0.009822</td>\n",
       "      <td>-0.014759</td>\n",
       "      <td>-0.004464</td>\n",
       "      <td>0.009056</td>\n",
       "      <td>0.015994</td>\n",
       "      <td>-0.005071</td>\n",
       "      <td>0.018821</td>\n",
       "      <td>0.010795</td>\n",
       "    </tr>\n",
       "  </tbody>\n",
       "</table>\n",
       "<p>5 rows × 409 columns</p>\n",
       "</div>"
      ],
      "text/plain": [
       "            tucaseid  TUFINLWGT  TRYHHCHILD     TEAGE     TESEX   PEEDUCA  \\\n",
       "tucaseid    1.000000   0.032235    0.006124 -0.007162 -0.017115 -0.014749   \n",
       "TUFINLWGT   0.032235   1.000000   -0.020603 -0.213174 -0.093590 -0.135534   \n",
       "TRYHHCHILD  0.006124  -0.020603    1.000000 -0.365897  0.004457 -0.080447   \n",
       "TEAGE      -0.007162  -0.213174   -0.365897  1.000000  0.051919  0.023732   \n",
       "TESEX      -0.017115  -0.093590    0.004457  0.051919  1.000000  0.014751   \n",
       "\n",
       "            PTDTRACE  PEHSPNON  GTMETSTA     TELFS    ...      t181601  \\\n",
       "tucaseid    0.000874 -0.006381  0.014979 -0.010093    ...    -0.005859   \n",
       "TUFINLWGT  -0.004744 -0.025933 -0.011965 -0.027283    ...    -0.004466   \n",
       "TRYHHCHILD  0.023713 -0.032566 -0.003213 -0.127396    ...    -0.003802   \n",
       "TEAGE      -0.077561  0.128753  0.040644  0.358194    ...     0.002560   \n",
       "TESEX      -0.008349  0.005778 -0.008446  0.148272    ...    -0.001596   \n",
       "\n",
       "             t181699   t181801   t181899   t189999   t500101   t500103  \\\n",
       "tucaseid   -0.006674 -0.005857 -0.009457 -0.004173 -0.040702 -0.016699   \n",
       "TUFINLWGT   0.001674 -0.008920 -0.008441 -0.008630  0.005873  0.001493   \n",
       "TRYHHCHILD -0.002671 -0.001719  0.003602  0.020722  0.015719  0.013646   \n",
       "TEAGE      -0.007163 -0.008693  0.006390 -0.002466 -0.012960 -0.012961   \n",
       "TESEX       0.008267  0.009822 -0.014759 -0.004464  0.009056  0.015994   \n",
       "\n",
       "             t500105   t500106   t500107  \n",
       "tucaseid    0.002191 -0.017501 -0.009540  \n",
       "TUFINLWGT   0.010360 -0.017711 -0.006392  \n",
       "TRYHHCHILD  0.000088 -0.035564  0.020727  \n",
       "TEAGE      -0.018435  0.099584 -0.000314  \n",
       "TESEX      -0.005071  0.018821  0.010795  \n",
       "\n",
       "[5 rows x 409 columns]"
      ]
     },
     "execution_count": 63,
     "metadata": {},
     "output_type": "execute_result"
    }
   ],
   "source": [
    "cor = act_sum.corr()\n",
    "cor.head()"
   ]
  },
  {
   "cell_type": "code",
   "execution_count": 64,
   "metadata": {
    "collapsed": false
   },
   "outputs": [
    {
     "data": {
      "text/html": [
       "<div>\n",
       "<table border=\"1\" class=\"dataframe\">\n",
       "  <thead>\n",
       "    <tr style=\"text-align: right;\">\n",
       "      <th></th>\n",
       "      <th>tucaseid</th>\n",
       "      <th>TUFINLWGT</th>\n",
       "      <th>TRYHHCHILD</th>\n",
       "      <th>TEAGE</th>\n",
       "      <th>TESEX</th>\n",
       "      <th>PEEDUCA</th>\n",
       "      <th>PTDTRACE</th>\n",
       "      <th>PEHSPNON</th>\n",
       "      <th>GTMETSTA</th>\n",
       "      <th>TELFS</th>\n",
       "      <th>...</th>\n",
       "      <th>t181601</th>\n",
       "      <th>t181699</th>\n",
       "      <th>t181801</th>\n",
       "      <th>t181899</th>\n",
       "      <th>t189999</th>\n",
       "      <th>t500101</th>\n",
       "      <th>t500103</th>\n",
       "      <th>t500105</th>\n",
       "      <th>t500106</th>\n",
       "      <th>t500107</th>\n",
       "    </tr>\n",
       "  </thead>\n",
       "  <tbody>\n",
       "    <tr>\n",
       "      <th>tucaseid</th>\n",
       "      <td>NaN</td>\n",
       "      <td>0.032235</td>\n",
       "      <td>0.006124</td>\n",
       "      <td>-0.007162</td>\n",
       "      <td>-0.017115</td>\n",
       "      <td>-0.014749</td>\n",
       "      <td>0.000874</td>\n",
       "      <td>-0.006381</td>\n",
       "      <td>0.014979</td>\n",
       "      <td>-0.010093</td>\n",
       "      <td>...</td>\n",
       "      <td>-0.005859</td>\n",
       "      <td>-0.006674</td>\n",
       "      <td>-0.005857</td>\n",
       "      <td>-0.009457</td>\n",
       "      <td>-0.004173</td>\n",
       "      <td>-0.040702</td>\n",
       "      <td>-0.016699</td>\n",
       "      <td>0.002191</td>\n",
       "      <td>-0.017501</td>\n",
       "      <td>-0.009540</td>\n",
       "    </tr>\n",
       "    <tr>\n",
       "      <th>TUFINLWGT</th>\n",
       "      <td>0.032235</td>\n",
       "      <td>NaN</td>\n",
       "      <td>-0.020603</td>\n",
       "      <td>-0.213174</td>\n",
       "      <td>-0.093590</td>\n",
       "      <td>-0.135534</td>\n",
       "      <td>-0.004744</td>\n",
       "      <td>-0.025933</td>\n",
       "      <td>-0.011965</td>\n",
       "      <td>-0.027283</td>\n",
       "      <td>...</td>\n",
       "      <td>-0.004466</td>\n",
       "      <td>0.001674</td>\n",
       "      <td>-0.008920</td>\n",
       "      <td>-0.008441</td>\n",
       "      <td>-0.008630</td>\n",
       "      <td>0.005873</td>\n",
       "      <td>0.001493</td>\n",
       "      <td>0.010360</td>\n",
       "      <td>-0.017711</td>\n",
       "      <td>-0.006392</td>\n",
       "    </tr>\n",
       "    <tr>\n",
       "      <th>TRYHHCHILD</th>\n",
       "      <td>0.006124</td>\n",
       "      <td>-0.020603</td>\n",
       "      <td>NaN</td>\n",
       "      <td>-0.365897</td>\n",
       "      <td>0.004457</td>\n",
       "      <td>-0.080447</td>\n",
       "      <td>0.023713</td>\n",
       "      <td>-0.032566</td>\n",
       "      <td>-0.003213</td>\n",
       "      <td>-0.127396</td>\n",
       "      <td>...</td>\n",
       "      <td>-0.003802</td>\n",
       "      <td>-0.002671</td>\n",
       "      <td>-0.001719</td>\n",
       "      <td>0.003602</td>\n",
       "      <td>0.020722</td>\n",
       "      <td>0.015719</td>\n",
       "      <td>0.013646</td>\n",
       "      <td>0.000088</td>\n",
       "      <td>-0.035564</td>\n",
       "      <td>0.020727</td>\n",
       "    </tr>\n",
       "    <tr>\n",
       "      <th>TEAGE</th>\n",
       "      <td>-0.007162</td>\n",
       "      <td>-0.213174</td>\n",
       "      <td>-0.365897</td>\n",
       "      <td>NaN</td>\n",
       "      <td>0.051919</td>\n",
       "      <td>0.023732</td>\n",
       "      <td>-0.077561</td>\n",
       "      <td>0.128753</td>\n",
       "      <td>0.040644</td>\n",
       "      <td>0.358194</td>\n",
       "      <td>...</td>\n",
       "      <td>0.002560</td>\n",
       "      <td>-0.007163</td>\n",
       "      <td>-0.008693</td>\n",
       "      <td>0.006390</td>\n",
       "      <td>-0.002466</td>\n",
       "      <td>-0.012960</td>\n",
       "      <td>-0.012961</td>\n",
       "      <td>-0.018435</td>\n",
       "      <td>0.099584</td>\n",
       "      <td>-0.000314</td>\n",
       "    </tr>\n",
       "    <tr>\n",
       "      <th>TESEX</th>\n",
       "      <td>-0.017115</td>\n",
       "      <td>-0.093590</td>\n",
       "      <td>0.004457</td>\n",
       "      <td>0.051919</td>\n",
       "      <td>NaN</td>\n",
       "      <td>0.014751</td>\n",
       "      <td>-0.008349</td>\n",
       "      <td>0.005778</td>\n",
       "      <td>-0.008446</td>\n",
       "      <td>0.148272</td>\n",
       "      <td>...</td>\n",
       "      <td>-0.001596</td>\n",
       "      <td>0.008267</td>\n",
       "      <td>0.009822</td>\n",
       "      <td>-0.014759</td>\n",
       "      <td>-0.004464</td>\n",
       "      <td>0.009056</td>\n",
       "      <td>0.015994</td>\n",
       "      <td>-0.005071</td>\n",
       "      <td>0.018821</td>\n",
       "      <td>0.010795</td>\n",
       "    </tr>\n",
       "  </tbody>\n",
       "</table>\n",
       "<p>5 rows × 409 columns</p>\n",
       "</div>"
      ],
      "text/plain": [
       "            tucaseid  TUFINLWGT  TRYHHCHILD     TEAGE     TESEX   PEEDUCA  \\\n",
       "tucaseid         NaN   0.032235    0.006124 -0.007162 -0.017115 -0.014749   \n",
       "TUFINLWGT   0.032235        NaN   -0.020603 -0.213174 -0.093590 -0.135534   \n",
       "TRYHHCHILD  0.006124  -0.020603         NaN -0.365897  0.004457 -0.080447   \n",
       "TEAGE      -0.007162  -0.213174   -0.365897       NaN  0.051919  0.023732   \n",
       "TESEX      -0.017115  -0.093590    0.004457  0.051919       NaN  0.014751   \n",
       "\n",
       "            PTDTRACE  PEHSPNON  GTMETSTA     TELFS    ...      t181601  \\\n",
       "tucaseid    0.000874 -0.006381  0.014979 -0.010093    ...    -0.005859   \n",
       "TUFINLWGT  -0.004744 -0.025933 -0.011965 -0.027283    ...    -0.004466   \n",
       "TRYHHCHILD  0.023713 -0.032566 -0.003213 -0.127396    ...    -0.003802   \n",
       "TEAGE      -0.077561  0.128753  0.040644  0.358194    ...     0.002560   \n",
       "TESEX      -0.008349  0.005778 -0.008446  0.148272    ...    -0.001596   \n",
       "\n",
       "             t181699   t181801   t181899   t189999   t500101   t500103  \\\n",
       "tucaseid   -0.006674 -0.005857 -0.009457 -0.004173 -0.040702 -0.016699   \n",
       "TUFINLWGT   0.001674 -0.008920 -0.008441 -0.008630  0.005873  0.001493   \n",
       "TRYHHCHILD -0.002671 -0.001719  0.003602  0.020722  0.015719  0.013646   \n",
       "TEAGE      -0.007163 -0.008693  0.006390 -0.002466 -0.012960 -0.012961   \n",
       "TESEX       0.008267  0.009822 -0.014759 -0.004464  0.009056  0.015994   \n",
       "\n",
       "             t500105   t500106   t500107  \n",
       "tucaseid    0.002191 -0.017501 -0.009540  \n",
       "TUFINLWGT   0.010360 -0.017711 -0.006392  \n",
       "TRYHHCHILD  0.000088 -0.035564  0.020727  \n",
       "TEAGE      -0.018435  0.099584 -0.000314  \n",
       "TESEX      -0.005071  0.018821  0.010795  \n",
       "\n",
       "[5 rows x 409 columns]"
      ]
     },
     "execution_count": 64,
     "metadata": {},
     "output_type": "execute_result"
    }
   ],
   "source": [
    "cor.head()"
   ]
  },
  {
   "cell_type": "code",
   "execution_count": 99,
   "metadata": {
    "collapsed": false
   },
   "outputs": [
    {
     "ename": "NameError",
     "evalue": "name 'cor' is not defined",
     "output_type": "error",
     "traceback": [
      "\u001b[0;31m---------------------------------------------------------------------------\u001b[0m",
      "\u001b[0;31mNameError\u001b[0m                                 Traceback (most recent call last)",
      "\u001b[0;32m<ipython-input-99-7fdeffc8a678>\u001b[0m in \u001b[0;36m<module>\u001b[0;34m()\u001b[0m\n\u001b[0;32m----> 1\u001b[0;31m \u001b[0mcor\u001b[0m\u001b[0;34m.\u001b[0m\u001b[0mplot\u001b[0m\u001b[0;34m(\u001b[0m\u001b[0mkind\u001b[0m\u001b[0;34m=\u001b[0m\u001b[0;34m'scatter'\u001b[0m\u001b[0;34m,\u001b[0m \u001b[0mx\u001b[0m\u001b[0;34m=\u001b[0m\u001b[0;34m't020101'\u001b[0m\u001b[0;34m,\u001b[0m \u001b[0my\u001b[0m\u001b[0;34m=\u001b[0m\u001b[0;34m'TESEX'\u001b[0m\u001b[0;34m,\u001b[0m \u001b[0mgrid\u001b[0m\u001b[0;34m=\u001b[0m\u001b[0;32mFalse\u001b[0m\u001b[0;34m,\u001b[0m \u001b[0mc\u001b[0m\u001b[0;34m=\u001b[0m\u001b[0msns\u001b[0m\u001b[0;34m.\u001b[0m\u001b[0mcolor_palette\u001b[0m\u001b[0;34m(\u001b[0m\u001b[0;34m'cool'\u001b[0m\u001b[0;34m)\u001b[0m\u001b[0;34m)\u001b[0m\u001b[0;34m\u001b[0m\u001b[0m\n\u001b[0m\u001b[1;32m      2\u001b[0m \u001b[0mplt\u001b[0m\u001b[0;34m.\u001b[0m\u001b[0mtitle\u001b[0m\u001b[0;34m(\u001b[0m\u001b[0;34m'Correlation: Sex & House Cleaning'\u001b[0m\u001b[0;34m)\u001b[0m\u001b[0;34m\u001b[0m\u001b[0m\n\u001b[1;32m      3\u001b[0m \u001b[0msns\u001b[0m\u001b[0;34m.\u001b[0m\u001b[0mdespine\u001b[0m\u001b[0;34m(\u001b[0m\u001b[0;34m)\u001b[0m\u001b[0;34m\u001b[0m\u001b[0m\n\u001b[1;32m      4\u001b[0m \u001b[0mplt\u001b[0m\u001b[0;34m.\u001b[0m\u001b[0mshow\u001b[0m\u001b[0;34m(\u001b[0m\u001b[0;34m)\u001b[0m\u001b[0;34m\u001b[0m\u001b[0m\n",
      "\u001b[0;31mNameError\u001b[0m: name 'cor' is not defined"
     ]
    }
   ],
   "source": [
    "cor.plot(kind='scatter', x='t020101', y='TESEX', grid=False, c=sns.color_palette('cool'))\n",
    "plt.title('Correlation: Sex & House Cleaning')\n",
    "sns.despine()\n",
    "plt.show()"
   ]
  },
  {
   "cell_type": "markdown",
   "metadata": {},
   "source": [
    "This plot shows the positive correlation between sex and house_cleaning."
   ]
  },
  {
   "cell_type": "code",
   "execution_count": 172,
   "metadata": {
    "collapsed": false
   },
   "outputs": [
    {
     "data": {
      "image/png": "[encoded data removed]",
      "text/plain": [
       "<matplotlib.figure.Figure at 0x10f8f82b0>"
      ]
     },
     "metadata": {},
     "output_type": "display_data"
    }
   ],
   "source": [
    "cor.plot(kind='scatter', x='TEAGE', y='t120303', c=sns.color_palette('YlGn'))\n",
    "plt.title('Correlation: Age and TV')\n",
    "plt.show()"
   ]
  },
  {
   "cell_type": "markdown",
   "metadata": {},
   "source": [
    "This plot shows a positive correlation betwen age and time spent watching television."
   ]
  },
  {
   "cell_type": "code",
   "execution_count": 169,
   "metadata": {
    "collapsed": false
   },
   "outputs": [
    {
     "data": {
      "image/png": "[encoded data removed]",
      "text/plain": [
       "<matplotlib.figure.Figure at 0x11087da90>"
      ]
     },
     "metadata": {},
     "output_type": "display_data"
    }
   ],
   "source": [
    "cor.plot(kind='scatter', x='t120101', y='TESEX', c=sns.color_palette('YlGn'))\n",
    "plt.show()"
   ]
  },
  {
   "cell_type": "markdown",
   "metadata": {},
   "source": [
    "This is a scatter plot that shows a lack of correlation between time spent socializing and sex."
   ]
  },
  {
   "cell_type": "code",
   "execution_count": null,
   "metadata": {
    "collapsed": true
   },
   "outputs": [],
   "source": []
  }
 ],
 "metadata": {
  "kernelspec": {
   "display_name": "Python 3",
   "language": "python",
   "name": "python3"
  },
  "language_info": {
   "codemirror_mode": {
    "name": "ipython",
    "version": 3
   },
   "file_extension": ".py",
   "mimetype": "text/x-python",
   "name": "python",
   "nbconvert_exporter": "python",
   "pygments_lexer": "ipython3",
   "version": "3.5.1"
  }
 },
 "nbformat": 4,
 "nbformat_minor": 0
}
