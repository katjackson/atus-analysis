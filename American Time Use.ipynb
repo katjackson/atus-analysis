{
 "cells": [
  {
   "cell_type": "code",
   "execution_count": 1,
   "metadata": {
    "collapsed": true
   },
   "outputs": [],
   "source": [
    "%matplotlib inline\n",
    "\n",
    "import pandas as pd\n",
    "import numpy as np\n",
    "import matplotlib.pyplot as plt\n",
    "import seaborn as sns"
   ]
  },
  {
   "cell_type": "markdown",
   "metadata": {},
   "source": [
    "### Activities\n",
    "I use pandas to read in the large file containing activity reports and narrow it down to the columns I want to look at."
   ]
  },
  {
   "cell_type": "code",
   "execution_count": 2,
   "metadata": {
    "collapsed": false
   },
   "outputs": [
    {
     "data": {
      "text/html": [
       "<div>\n",
       "<table border=\"1\" class=\"dataframe\">\n",
       "  <thead>\n",
       "    <tr style=\"text-align: right;\">\n",
       "      <th></th>\n",
       "      <th>TUCASEID</th>\n",
       "      <th>TUACTIVITY_N</th>\n",
       "      <th>TUTIER1CODE</th>\n",
       "      <th>TUTIER2CODE</th>\n",
       "      <th>TUTIER3CODE</th>\n",
       "      <th>TRCODE</th>\n",
       "      <th>TRTIER2</th>\n",
       "      <th>TUACTDUR</th>\n",
       "    </tr>\n",
       "  </thead>\n",
       "  <tbody>\n",
       "    <tr>\n",
       "      <th>0</th>\n",
       "      <td>20140101140007</td>\n",
       "      <td>1</td>\n",
       "      <td>1</td>\n",
       "      <td>1</td>\n",
       "      <td>1</td>\n",
       "      <td>10101</td>\n",
       "      <td>101</td>\n",
       "      <td>540</td>\n",
       "    </tr>\n",
       "    <tr>\n",
       "      <th>1</th>\n",
       "      <td>20140101140007</td>\n",
       "      <td>2</td>\n",
       "      <td>3</td>\n",
       "      <td>1</td>\n",
       "      <td>1</td>\n",
       "      <td>30101</td>\n",
       "      <td>301</td>\n",
       "      <td>30</td>\n",
       "    </tr>\n",
       "    <tr>\n",
       "      <th>2</th>\n",
       "      <td>20140101140007</td>\n",
       "      <td>3</td>\n",
       "      <td>1</td>\n",
       "      <td>2</td>\n",
       "      <td>1</td>\n",
       "      <td>10201</td>\n",
       "      <td>102</td>\n",
       "      <td>60</td>\n",
       "    </tr>\n",
       "    <tr>\n",
       "      <th>3</th>\n",
       "      <td>20140101140007</td>\n",
       "      <td>4</td>\n",
       "      <td>18</td>\n",
       "      <td>11</td>\n",
       "      <td>1</td>\n",
       "      <td>181101</td>\n",
       "      <td>1811</td>\n",
       "      <td>10</td>\n",
       "    </tr>\n",
       "    <tr>\n",
       "      <th>4</th>\n",
       "      <td>20140101140007</td>\n",
       "      <td>5</td>\n",
       "      <td>11</td>\n",
       "      <td>1</td>\n",
       "      <td>1</td>\n",
       "      <td>110101</td>\n",
       "      <td>1101</td>\n",
       "      <td>30</td>\n",
       "    </tr>\n",
       "  </tbody>\n",
       "</table>\n",
       "</div>"
      ],
      "text/plain": [
       "         TUCASEID  TUACTIVITY_N  TUTIER1CODE  TUTIER2CODE  TUTIER3CODE  \\\n",
       "0  20140101140007             1            1            1            1   \n",
       "1  20140101140007             2            3            1            1   \n",
       "2  20140101140007             3            1            2            1   \n",
       "3  20140101140007             4           18           11            1   \n",
       "4  20140101140007             5           11            1            1   \n",
       "\n",
       "   TRCODE  TRTIER2  TUACTDUR  \n",
       "0   10101      101       540  \n",
       "1   30101      301        30  \n",
       "2   10201      102        60  \n",
       "3  181101     1811        10  \n",
       "4  110101     1101        30  "
      ]
     },
     "execution_count": 2,
     "metadata": {},
     "output_type": "execute_result"
    }
   ],
   "source": [
    "activities = pd.read_csv('data/atusact_2014.dat')\n",
    "activities = activities[['TUCASEID', 'TUACTIVITY_N', 'TUTIER1CODE', 'TUTIER2CODE', 'TUTIER3CODE', 'TRCODE', 'TRTIER2', 'TUACTDUR']]\n",
    "activities.head()"
   ]
  },
  {
   "cell_type": "markdown",
   "metadata": {},
   "source": [
    "### Roster\n",
    "I used pandas to read in the roster data file and narrow down the data frame to useful information. I dropped columns I didn't want to look at, and only kept information for respondents ('TULINENO' code 1)."
   ]
  },
  {
   "cell_type": "code",
   "execution_count": 3,
   "metadata": {
    "collapsed": false
   },
   "outputs": [
    {
     "data": {
      "text/html": [
       "<div>\n",
       "<table border=\"1\" class=\"dataframe\">\n",
       "  <thead>\n",
       "    <tr style=\"text-align: right;\">\n",
       "      <th></th>\n",
       "      <th>TUCASEID</th>\n",
       "      <th>TEAGE</th>\n",
       "      <th>TESEX</th>\n",
       "    </tr>\n",
       "  </thead>\n",
       "  <tbody>\n",
       "    <tr>\n",
       "      <th>0</th>\n",
       "      <td>20140101140007</td>\n",
       "      <td>20</td>\n",
       "      <td>2</td>\n",
       "    </tr>\n",
       "    <tr>\n",
       "      <th>3</th>\n",
       "      <td>20140101140011</td>\n",
       "      <td>16</td>\n",
       "      <td>2</td>\n",
       "    </tr>\n",
       "    <tr>\n",
       "      <th>5</th>\n",
       "      <td>20140101140028</td>\n",
       "      <td>65</td>\n",
       "      <td>2</td>\n",
       "    </tr>\n",
       "    <tr>\n",
       "      <th>11</th>\n",
       "      <td>20140101140063</td>\n",
       "      <td>50</td>\n",
       "      <td>2</td>\n",
       "    </tr>\n",
       "    <tr>\n",
       "      <th>12</th>\n",
       "      <td>20140101140168</td>\n",
       "      <td>23</td>\n",
       "      <td>2</td>\n",
       "    </tr>\n",
       "  </tbody>\n",
       "</table>\n",
       "</div>"
      ],
      "text/plain": [
       "          TUCASEID  TEAGE  TESEX\n",
       "0   20140101140007     20      2\n",
       "3   20140101140011     16      2\n",
       "5   20140101140028     65      2\n",
       "11  20140101140063     50      2\n",
       "12  20140101140168     23      2"
      ]
     },
     "execution_count": 3,
     "metadata": {},
     "output_type": "execute_result"
    }
   ],
   "source": [
    "roster = pd.read_csv('data/atusrost_2014.dat')\n",
    "roster.drop(['TXSEX', 'TXRRP', 'TXAGE', 'TERRP'], 1, inplace=True)\n",
    "roster = roster[roster['TULINENO'] == 1]\n",
    "roster.drop('TULINENO', 1, inplace=True)\n",
    "roster.head()"
   ]
  },
  {
   "cell_type": "markdown",
   "metadata": {},
   "source": [
    "I merged the roster data frame with the activities data frame so that I have the sex and age of every person along with their reports."
   ]
  },
  {
   "cell_type": "code",
   "execution_count": 4,
   "metadata": {
    "collapsed": false
   },
   "outputs": [
    {
     "data": {
      "text/html": [
       "<div>\n",
       "<table border=\"1\" class=\"dataframe\">\n",
       "  <thead>\n",
       "    <tr style=\"text-align: right;\">\n",
       "      <th></th>\n",
       "      <th>TUCASEID</th>\n",
       "      <th>TEAGE</th>\n",
       "      <th>TESEX</th>\n",
       "      <th>TUACTIVITY_N</th>\n",
       "      <th>TUTIER1CODE</th>\n",
       "      <th>TUTIER2CODE</th>\n",
       "      <th>TUTIER3CODE</th>\n",
       "      <th>TRCODE</th>\n",
       "      <th>TRTIER2</th>\n",
       "      <th>TUACTDUR</th>\n",
       "    </tr>\n",
       "  </thead>\n",
       "  <tbody>\n",
       "    <tr>\n",
       "      <th>0</th>\n",
       "      <td>20140101140007</td>\n",
       "      <td>20</td>\n",
       "      <td>2</td>\n",
       "      <td>1</td>\n",
       "      <td>1</td>\n",
       "      <td>1</td>\n",
       "      <td>1</td>\n",
       "      <td>10101</td>\n",
       "      <td>101</td>\n",
       "      <td>540</td>\n",
       "    </tr>\n",
       "    <tr>\n",
       "      <th>1</th>\n",
       "      <td>20140101140007</td>\n",
       "      <td>20</td>\n",
       "      <td>2</td>\n",
       "      <td>2</td>\n",
       "      <td>3</td>\n",
       "      <td>1</td>\n",
       "      <td>1</td>\n",
       "      <td>30101</td>\n",
       "      <td>301</td>\n",
       "      <td>30</td>\n",
       "    </tr>\n",
       "    <tr>\n",
       "      <th>2</th>\n",
       "      <td>20140101140007</td>\n",
       "      <td>20</td>\n",
       "      <td>2</td>\n",
       "      <td>3</td>\n",
       "      <td>1</td>\n",
       "      <td>2</td>\n",
       "      <td>1</td>\n",
       "      <td>10201</td>\n",
       "      <td>102</td>\n",
       "      <td>60</td>\n",
       "    </tr>\n",
       "    <tr>\n",
       "      <th>3</th>\n",
       "      <td>20140101140007</td>\n",
       "      <td>20</td>\n",
       "      <td>2</td>\n",
       "      <td>4</td>\n",
       "      <td>18</td>\n",
       "      <td>11</td>\n",
       "      <td>1</td>\n",
       "      <td>181101</td>\n",
       "      <td>1811</td>\n",
       "      <td>10</td>\n",
       "    </tr>\n",
       "    <tr>\n",
       "      <th>4</th>\n",
       "      <td>20140101140007</td>\n",
       "      <td>20</td>\n",
       "      <td>2</td>\n",
       "      <td>5</td>\n",
       "      <td>11</td>\n",
       "      <td>1</td>\n",
       "      <td>1</td>\n",
       "      <td>110101</td>\n",
       "      <td>1101</td>\n",
       "      <td>30</td>\n",
       "    </tr>\n",
       "  </tbody>\n",
       "</table>\n",
       "</div>"
      ],
      "text/plain": [
       "         TUCASEID  TEAGE  TESEX  TUACTIVITY_N  TUTIER1CODE  TUTIER2CODE  \\\n",
       "0  20140101140007     20      2             1            1            1   \n",
       "1  20140101140007     20      2             2            3            1   \n",
       "2  20140101140007     20      2             3            1            2   \n",
       "3  20140101140007     20      2             4           18           11   \n",
       "4  20140101140007     20      2             5           11            1   \n",
       "\n",
       "   TUTIER3CODE  TRCODE  TRTIER2  TUACTDUR  \n",
       "0            1   10101      101       540  \n",
       "1            1   30101      301        30  \n",
       "2            1   10201      102        60  \n",
       "3            1  181101     1811        10  \n",
       "4            1  110101     1101        30  "
      ]
     },
     "execution_count": 4,
     "metadata": {},
     "output_type": "execute_result"
    }
   ],
   "source": [
    "act_rost = pd.merge(roster, activities)\n",
    "act_rost.head()"
   ]
  },
  {
   "cell_type": "markdown",
   "metadata": {},
   "source": [
    "I created a data frame of every report of eating (code 11)."
   ]
  },
  {
   "cell_type": "code",
   "execution_count": 5,
   "metadata": {
    "collapsed": false
   },
   "outputs": [
    {
     "data": {
      "text/html": [
       "<div>\n",
       "<table border=\"1\" class=\"dataframe\">\n",
       "  <thead>\n",
       "    <tr style=\"text-align: right;\">\n",
       "      <th></th>\n",
       "      <th>TUCASEID</th>\n",
       "      <th>TEAGE</th>\n",
       "      <th>TESEX</th>\n",
       "      <th>TUACTIVITY_N</th>\n",
       "      <th>TUTIER1CODE</th>\n",
       "      <th>TUTIER2CODE</th>\n",
       "      <th>TUTIER3CODE</th>\n",
       "      <th>TRCODE</th>\n",
       "      <th>TRTIER2</th>\n",
       "      <th>TUACTDUR</th>\n",
       "    </tr>\n",
       "  </thead>\n",
       "  <tbody>\n",
       "    <tr>\n",
       "      <th>4</th>\n",
       "      <td>20140101140007</td>\n",
       "      <td>20</td>\n",
       "      <td>2</td>\n",
       "      <td>5</td>\n",
       "      <td>11</td>\n",
       "      <td>1</td>\n",
       "      <td>1</td>\n",
       "      <td>110101</td>\n",
       "      <td>1101</td>\n",
       "      <td>30</td>\n",
       "    </tr>\n",
       "    <tr>\n",
       "      <th>14</th>\n",
       "      <td>20140101140011</td>\n",
       "      <td>16</td>\n",
       "      <td>2</td>\n",
       "      <td>5</td>\n",
       "      <td>11</td>\n",
       "      <td>1</td>\n",
       "      <td>1</td>\n",
       "      <td>110101</td>\n",
       "      <td>1101</td>\n",
       "      <td>15</td>\n",
       "    </tr>\n",
       "    <tr>\n",
       "      <th>23</th>\n",
       "      <td>20140101140011</td>\n",
       "      <td>16</td>\n",
       "      <td>2</td>\n",
       "      <td>14</td>\n",
       "      <td>11</td>\n",
       "      <td>1</td>\n",
       "      <td>1</td>\n",
       "      <td>110101</td>\n",
       "      <td>1101</td>\n",
       "      <td>30</td>\n",
       "    </tr>\n",
       "    <tr>\n",
       "      <th>30</th>\n",
       "      <td>20140101140028</td>\n",
       "      <td>65</td>\n",
       "      <td>2</td>\n",
       "      <td>3</td>\n",
       "      <td>11</td>\n",
       "      <td>1</td>\n",
       "      <td>1</td>\n",
       "      <td>110101</td>\n",
       "      <td>1101</td>\n",
       "      <td>60</td>\n",
       "    </tr>\n",
       "    <tr>\n",
       "      <th>51</th>\n",
       "      <td>20140101140168</td>\n",
       "      <td>23</td>\n",
       "      <td>2</td>\n",
       "      <td>5</td>\n",
       "      <td>11</td>\n",
       "      <td>1</td>\n",
       "      <td>1</td>\n",
       "      <td>110101</td>\n",
       "      <td>1101</td>\n",
       "      <td>15</td>\n",
       "    </tr>\n",
       "  </tbody>\n",
       "</table>\n",
       "</div>"
      ],
      "text/plain": [
       "          TUCASEID  TEAGE  TESEX  TUACTIVITY_N  TUTIER1CODE  TUTIER2CODE  \\\n",
       "4   20140101140007     20      2             5           11            1   \n",
       "14  20140101140011     16      2             5           11            1   \n",
       "23  20140101140011     16      2            14           11            1   \n",
       "30  20140101140028     65      2             3           11            1   \n",
       "51  20140101140168     23      2             5           11            1   \n",
       "\n",
       "    TUTIER3CODE  TRCODE  TRTIER2  TUACTDUR  \n",
       "4             1  110101     1101        30  \n",
       "14            1  110101     1101        15  \n",
       "23            1  110101     1101        30  \n",
       "30            1  110101     1101        60  \n",
       "51            1  110101     1101        15  "
      ]
     },
     "execution_count": 5,
     "metadata": {},
     "output_type": "execute_result"
    }
   ],
   "source": [
    "eating = act_rost[act_rost.TUTIER1CODE == 11]\n",
    "eating.head()"
   ]
  },
  {
   "cell_type": "markdown",
   "metadata": {},
   "source": [
    "### FINDING OUTLIERS\n",
    "\n",
    "I used the following method to find outliers in the data set and get rid of them. \n",
    "\n",
    "1. Make a copy of original df<br>\n",
    "    newdf = df.copy()\n",
    "<br><br>\n",
    "2. Get difference in value and mean of values.<br>\n",
    "    newdf['x-Mean'] = abs(newdf['column'] - newdf['column'].mean())\n",
    "<br><br>\n",
    "3. Get limits for outliers by calculating standard deviation times 1.96.<br>\n",
    "    newdf['1.96\\*std'] = 1.96\\*newdf['column'].std()\n",
    "<br><br>\n",
    "4. The Outlier compares the difference from mean with the outlier limit and returns a boolean value for whether the difference it too great.<br>\n",
    "    newdf['Outlier'] = newdf['x-Mean'] > newdf['1.96\\*std']\n",
    "<br><br>\n",
    "5. Delete outliers.<br>\n",
    "    Reset the data frame to values that are not outliers."
   ]
  },
  {
   "cell_type": "code",
   "execution_count": 6,
   "metadata": {
    "collapsed": false
   },
   "outputs": [
    {
     "data": {
      "text/html": [
       "<div>\n",
       "<table border=\"1\" class=\"dataframe\">\n",
       "  <thead>\n",
       "    <tr style=\"text-align: right;\">\n",
       "      <th></th>\n",
       "      <th>TUCASEID</th>\n",
       "      <th>TEAGE</th>\n",
       "      <th>TESEX</th>\n",
       "      <th>TUACTIVITY_N</th>\n",
       "      <th>TUTIER1CODE</th>\n",
       "      <th>TUTIER2CODE</th>\n",
       "      <th>TUTIER3CODE</th>\n",
       "      <th>TRCODE</th>\n",
       "      <th>TRTIER2</th>\n",
       "      <th>TUACTDUR</th>\n",
       "      <th>x-Mean</th>\n",
       "      <th>1.96*std</th>\n",
       "      <th>Outlier</th>\n",
       "    </tr>\n",
       "  </thead>\n",
       "  <tbody>\n",
       "    <tr>\n",
       "      <th>4</th>\n",
       "      <td>20140101140007</td>\n",
       "      <td>20</td>\n",
       "      <td>2</td>\n",
       "      <td>5</td>\n",
       "      <td>11</td>\n",
       "      <td>1</td>\n",
       "      <td>1</td>\n",
       "      <td>110101</td>\n",
       "      <td>1101</td>\n",
       "      <td>30</td>\n",
       "      <td>2.760182</td>\n",
       "      <td>56.883675</td>\n",
       "      <td>False</td>\n",
       "    </tr>\n",
       "    <tr>\n",
       "      <th>14</th>\n",
       "      <td>20140101140011</td>\n",
       "      <td>16</td>\n",
       "      <td>2</td>\n",
       "      <td>5</td>\n",
       "      <td>11</td>\n",
       "      <td>1</td>\n",
       "      <td>1</td>\n",
       "      <td>110101</td>\n",
       "      <td>1101</td>\n",
       "      <td>15</td>\n",
       "      <td>17.760182</td>\n",
       "      <td>56.883675</td>\n",
       "      <td>False</td>\n",
       "    </tr>\n",
       "    <tr>\n",
       "      <th>23</th>\n",
       "      <td>20140101140011</td>\n",
       "      <td>16</td>\n",
       "      <td>2</td>\n",
       "      <td>14</td>\n",
       "      <td>11</td>\n",
       "      <td>1</td>\n",
       "      <td>1</td>\n",
       "      <td>110101</td>\n",
       "      <td>1101</td>\n",
       "      <td>30</td>\n",
       "      <td>2.760182</td>\n",
       "      <td>56.883675</td>\n",
       "      <td>False</td>\n",
       "    </tr>\n",
       "    <tr>\n",
       "      <th>30</th>\n",
       "      <td>20140101140028</td>\n",
       "      <td>65</td>\n",
       "      <td>2</td>\n",
       "      <td>3</td>\n",
       "      <td>11</td>\n",
       "      <td>1</td>\n",
       "      <td>1</td>\n",
       "      <td>110101</td>\n",
       "      <td>1101</td>\n",
       "      <td>60</td>\n",
       "      <td>27.239818</td>\n",
       "      <td>56.883675</td>\n",
       "      <td>False</td>\n",
       "    </tr>\n",
       "    <tr>\n",
       "      <th>51</th>\n",
       "      <td>20140101140168</td>\n",
       "      <td>23</td>\n",
       "      <td>2</td>\n",
       "      <td>5</td>\n",
       "      <td>11</td>\n",
       "      <td>1</td>\n",
       "      <td>1</td>\n",
       "      <td>110101</td>\n",
       "      <td>1101</td>\n",
       "      <td>15</td>\n",
       "      <td>17.760182</td>\n",
       "      <td>56.883675</td>\n",
       "      <td>False</td>\n",
       "    </tr>\n",
       "  </tbody>\n",
       "</table>\n",
       "</div>"
      ],
      "text/plain": [
       "          TUCASEID  TEAGE  TESEX  TUACTIVITY_N  TUTIER1CODE  TUTIER2CODE  \\\n",
       "4   20140101140007     20      2             5           11            1   \n",
       "14  20140101140011     16      2             5           11            1   \n",
       "23  20140101140011     16      2            14           11            1   \n",
       "30  20140101140028     65      2             3           11            1   \n",
       "51  20140101140168     23      2             5           11            1   \n",
       "\n",
       "    TUTIER3CODE  TRCODE  TRTIER2  TUACTDUR     x-Mean   1.96*std Outlier  \n",
       "4             1  110101     1101        30   2.760182  56.883675   False  \n",
       "14            1  110101     1101        15  17.760182  56.883675   False  \n",
       "23            1  110101     1101        30   2.760182  56.883675   False  \n",
       "30            1  110101     1101        60  27.239818  56.883675   False  \n",
       "51            1  110101     1101        15  17.760182  56.883675   False  "
      ]
     },
     "execution_count": 6,
     "metadata": {},
     "output_type": "execute_result"
    }
   ],
   "source": [
    "eat = eating.copy()\n",
    "eat['x-Mean'] = abs(eat.TUACTDUR - eat.TUACTDUR.mean())\n",
    "eat['1.96*std'] = 1.96*eat.TUACTDUR.std()\n",
    "eat['Outlier'] = eat['x-Mean'] > eat['1.96*std']\n",
    "eat = eat[eat.Outlier == False]\n",
    "eat.head()"
   ]
  },
  {
   "cell_type": "markdown",
   "metadata": {},
   "source": [
    "After deleting the outliers, I used groupby and aggregate methods to create a dataframe with the number of meals each respondent had and the total duration of time they spent eating."
   ]
  },
  {
   "cell_type": "code",
   "execution_count": 7,
   "metadata": {
    "collapsed": false
   },
   "outputs": [
    {
     "data": {
      "text/html": [
       "<div>\n",
       "<table border=\"1\" class=\"dataframe\">\n",
       "  <thead>\n",
       "    <tr style=\"text-align: right;\">\n",
       "      <th></th>\n",
       "      <th>TUCASEID</th>\n",
       "      <th>TEAGE</th>\n",
       "      <th>TESEX</th>\n",
       "      <th>TUACTDUR</th>\n",
       "      <th>meals</th>\n",
       "    </tr>\n",
       "  </thead>\n",
       "  <tbody>\n",
       "    <tr>\n",
       "      <th>0</th>\n",
       "      <td>20140101140007</td>\n",
       "      <td>20</td>\n",
       "      <td>2</td>\n",
       "      <td>30</td>\n",
       "      <td>1</td>\n",
       "    </tr>\n",
       "    <tr>\n",
       "      <th>1</th>\n",
       "      <td>20140101140011</td>\n",
       "      <td>16</td>\n",
       "      <td>2</td>\n",
       "      <td>45</td>\n",
       "      <td>2</td>\n",
       "    </tr>\n",
       "    <tr>\n",
       "      <th>2</th>\n",
       "      <td>20140101140028</td>\n",
       "      <td>65</td>\n",
       "      <td>2</td>\n",
       "      <td>60</td>\n",
       "      <td>1</td>\n",
       "    </tr>\n",
       "    <tr>\n",
       "      <th>3</th>\n",
       "      <td>20140101140168</td>\n",
       "      <td>23</td>\n",
       "      <td>2</td>\n",
       "      <td>65</td>\n",
       "      <td>3</td>\n",
       "    </tr>\n",
       "    <tr>\n",
       "      <th>4</th>\n",
       "      <td>20140101140537</td>\n",
       "      <td>85</td>\n",
       "      <td>1</td>\n",
       "      <td>30</td>\n",
       "      <td>1</td>\n",
       "    </tr>\n",
       "  </tbody>\n",
       "</table>\n",
       "</div>"
      ],
      "text/plain": [
       "         TUCASEID  TEAGE  TESEX  TUACTDUR  meals\n",
       "0  20140101140007     20      2        30      1\n",
       "1  20140101140011     16      2        45      2\n",
       "2  20140101140028     65      2        60      1\n",
       "3  20140101140168     23      2        65      3\n",
       "4  20140101140537     85      1        30      1"
      ]
     },
     "execution_count": 7,
     "metadata": {},
     "output_type": "execute_result"
    }
   ],
   "source": [
    "eat_len = eat.groupby([eat.TUCASEID, eat.TEAGE, eat.TESEX])\n",
    "eat_len = eat_len.agg({'TUACTDUR': np.sum, 'TUACTIVITY_N': np.size})\n",
    "eat_len.rename(columns={'TUACTIVITY_N':'meals'}, inplace=True)\n",
    "eat_len.reset_index(inplace=True)\n",
    "eat_len.head()"
   ]
  },
  {
   "cell_type": "markdown",
   "metadata": {},
   "source": [
    "### How often and how long do people eat?\n",
    "From here I was able to compare reports of eating based on age and sex."
   ]
  },
  {
   "cell_type": "code",
   "execution_count": 9,
   "metadata": {
    "collapsed": false
   },
   "outputs": [
    {
     "name": "stdout",
     "output_type": "stream",
     "text": [
      "Women spent an average of 57.29 minutes eating, while men spent an average of 60.69 minutes eating.\n"
     ]
    }
   ],
   "source": [
    "w_eat_len = eat_len[eat_len.TESEX == 2].mean().TUACTDUR\n",
    "m_eat_len = eat_len[eat_len.TESEX == 1].mean().TUACTDUR\n",
    "print('Women spent an average of {} minutes eating, while men spent an average of {} minutes eating.'.format(round(w_eat_len, 2), round(m_eat_len, 2)))"
   ]
  },
  {
   "cell_type": "code",
   "execution_count": 10,
   "metadata": {
    "collapsed": false
   },
   "outputs": [
    {
     "name": "stdout",
     "output_type": "stream",
     "text": [
      "People ages 18 and under spent an average of 52.97 minutes eating, while people over 18 years old spent an average of 59.07 minutes eating.\n"
     ]
    }
   ],
   "source": [
    "kids_eat = eat_len[eat_len.TEAGE <= 18].mean().TUACTDUR\n",
    "adults_eat = eat_len[eat_len.TEAGE > 18].mean().TUACTDUR\n",
    "print('People ages 18 and under spent an average of {} minutes eating, while people over 18 years old spent an average of {} minutes eating.'.format(round(kids_eat, 2), round(adults_eat, 2)))"
   ]
  },
  {
   "cell_type": "markdown",
   "metadata": {},
   "source": [
    "## Calculating % of Male/Female respondents reporting an activity\n",
    "I used the roster data frame to find the number of respondents of each sex."
   ]
  },
  {
   "cell_type": "code",
   "execution_count": 37,
   "metadata": {
    "collapsed": false
   },
   "outputs": [
    {
     "data": {
      "text/html": [
       "<div>\n",
       "<table border=\"1\" class=\"dataframe\">\n",
       "  <thead>\n",
       "    <tr style=\"text-align: right;\">\n",
       "      <th></th>\n",
       "      <th>TESEX</th>\n",
       "      <th>TEAGE</th>\n",
       "      <th>resp_count</th>\n",
       "    </tr>\n",
       "  </thead>\n",
       "  <tbody>\n",
       "    <tr>\n",
       "      <th>0</th>\n",
       "      <td>1</td>\n",
       "      <td>15</td>\n",
       "      <td>56</td>\n",
       "    </tr>\n",
       "    <tr>\n",
       "      <th>1</th>\n",
       "      <td>1</td>\n",
       "      <td>16</td>\n",
       "      <td>92</td>\n",
       "    </tr>\n",
       "    <tr>\n",
       "      <th>2</th>\n",
       "      <td>1</td>\n",
       "      <td>17</td>\n",
       "      <td>80</td>\n",
       "    </tr>\n",
       "    <tr>\n",
       "      <th>3</th>\n",
       "      <td>1</td>\n",
       "      <td>18</td>\n",
       "      <td>50</td>\n",
       "    </tr>\n",
       "    <tr>\n",
       "      <th>4</th>\n",
       "      <td>1</td>\n",
       "      <td>19</td>\n",
       "      <td>41</td>\n",
       "    </tr>\n",
       "  </tbody>\n",
       "</table>\n",
       "</div>"
      ],
      "text/plain": [
       "   TESEX  TEAGE  resp_count\n",
       "0      1     15          56\n",
       "1      1     16          92\n",
       "2      1     17          80\n",
       "3      1     18          50\n",
       "4      1     19          41"
      ]
     },
     "execution_count": 37,
     "metadata": {},
     "output_type": "execute_result"
    }
   ],
   "source": [
    "r_copy = roster.copy()\n",
    "r_counts = r_copy.groupby(['TESEX', 'TEAGE']).count()\n",
    "r_counts.rename(columns={'TUCASEID': 'resp_count'}, inplace=True)\n",
    "r_counts.reset_index(inplace=True)\n",
    "r_counts.head()"
   ]
  },
  {
   "cell_type": "markdown",
   "metadata": {},
   "source": [
    "I used the merged activities and roster data to find the number of reports of each type by sex."
   ]
  },
  {
   "cell_type": "code",
   "execution_count": 38,
   "metadata": {
    "collapsed": false
   },
   "outputs": [
    {
     "data": {
      "text/html": [
       "<div>\n",
       "<table border=\"1\" class=\"dataframe\">\n",
       "  <thead>\n",
       "    <tr style=\"text-align: right;\">\n",
       "      <th></th>\n",
       "      <th>TUTIER1CODE</th>\n",
       "      <th>TUTIER2CODE</th>\n",
       "      <th>TUTIER3CODE</th>\n",
       "      <th>TESEX</th>\n",
       "      <th>TEAGE</th>\n",
       "      <th>reports</th>\n",
       "      <th>duration</th>\n",
       "    </tr>\n",
       "  </thead>\n",
       "  <tbody>\n",
       "    <tr>\n",
       "      <th>0</th>\n",
       "      <td>1</td>\n",
       "      <td>1</td>\n",
       "      <td>1</td>\n",
       "      <td>1</td>\n",
       "      <td>15</td>\n",
       "      <td>114</td>\n",
       "      <td>395.052632</td>\n",
       "    </tr>\n",
       "    <tr>\n",
       "      <th>1</th>\n",
       "      <td>1</td>\n",
       "      <td>1</td>\n",
       "      <td>1</td>\n",
       "      <td>1</td>\n",
       "      <td>16</td>\n",
       "      <td>193</td>\n",
       "      <td>387.792746</td>\n",
       "    </tr>\n",
       "    <tr>\n",
       "      <th>2</th>\n",
       "      <td>1</td>\n",
       "      <td>1</td>\n",
       "      <td>1</td>\n",
       "      <td>1</td>\n",
       "      <td>17</td>\n",
       "      <td>173</td>\n",
       "      <td>392.942197</td>\n",
       "    </tr>\n",
       "    <tr>\n",
       "      <th>3</th>\n",
       "      <td>1</td>\n",
       "      <td>1</td>\n",
       "      <td>1</td>\n",
       "      <td>1</td>\n",
       "      <td>18</td>\n",
       "      <td>107</td>\n",
       "      <td>378.654206</td>\n",
       "    </tr>\n",
       "    <tr>\n",
       "      <th>4</th>\n",
       "      <td>1</td>\n",
       "      <td>1</td>\n",
       "      <td>1</td>\n",
       "      <td>1</td>\n",
       "      <td>19</td>\n",
       "      <td>89</td>\n",
       "      <td>392.280899</td>\n",
       "    </tr>\n",
       "  </tbody>\n",
       "</table>\n",
       "</div>"
      ],
      "text/plain": [
       "   TUTIER1CODE  TUTIER2CODE  TUTIER3CODE  TESEX  TEAGE  reports    duration\n",
       "0            1            1            1      1     15      114  395.052632\n",
       "1            1            1            1      1     16      193  387.792746\n",
       "2            1            1            1      1     17      173  392.942197\n",
       "3            1            1            1      1     18      107  378.654206\n",
       "4            1            1            1      1     19       89  392.280899"
      ]
     },
     "execution_count": 38,
     "metadata": {},
     "output_type": "execute_result"
    }
   ],
   "source": [
    "ar_copy = act_rost.copy()\n",
    "ar_copy.drop(['TUACTIVITY_N', 'TRCODE', 'TRTIER2'], 1, inplace=True)\n",
    "activities_count = ar_copy.groupby(['TUTIER1CODE', 'TUTIER2CODE', 'TUTIER3CODE', 'TESEX', 'TEAGE'])\n",
    "activities_count = activities_count.agg({'TUCASEID': np.size, 'TUACTDUR': np.mean})\n",
    "activities_count.rename(columns={'TUCASEID': 'reports', 'TUACTDUR': 'duration'}, inplace=True)\n",
    "activities_count.reset_index(inplace=True)\n",
    "activities_count.head()"
   ]
  },
  {
   "cell_type": "markdown",
   "metadata": {},
   "source": [
    "I merged the counts of repondents by sex with the counts and durations of of activities by activity and sex. I used the # of reports and # of respondents to calculate the percentage of respondents that reported engaging in a given activity. I also created a multi-index frame so that I could easily access the stats by activity."
   ]
  },
  {
   "cell_type": "code",
   "execution_count": 41,
   "metadata": {
    "collapsed": false
   },
   "outputs": [
    {
     "data": {
      "text/html": [
       "<div>\n",
       "<table border=\"1\" class=\"dataframe\">\n",
       "  <thead>\n",
       "    <tr style=\"text-align: right;\">\n",
       "      <th></th>\n",
       "      <th></th>\n",
       "      <th></th>\n",
       "      <th></th>\n",
       "      <th></th>\n",
       "      <th>reports</th>\n",
       "      <th>duration</th>\n",
       "      <th>reports_per_resp</th>\n",
       "    </tr>\n",
       "    <tr>\n",
       "      <th>TUTIER1CODE</th>\n",
       "      <th>TUTIER2CODE</th>\n",
       "      <th>TUTIER3CODE</th>\n",
       "      <th>TESEX</th>\n",
       "      <th>TEAGE</th>\n",
       "      <th></th>\n",
       "      <th></th>\n",
       "      <th></th>\n",
       "    </tr>\n",
       "  </thead>\n",
       "  <tbody>\n",
       "    <tr>\n",
       "      <th rowspan=\"5\" valign=\"top\">1</th>\n",
       "      <th rowspan=\"5\" valign=\"top\">1</th>\n",
       "      <th rowspan=\"5\" valign=\"top\">1</th>\n",
       "      <th rowspan=\"5\" valign=\"top\">1</th>\n",
       "      <th>15</th>\n",
       "      <td>114</td>\n",
       "      <td>395.052632</td>\n",
       "      <td>2.035714</td>\n",
       "    </tr>\n",
       "    <tr>\n",
       "      <th>16</th>\n",
       "      <td>193</td>\n",
       "      <td>387.792746</td>\n",
       "      <td>2.097826</td>\n",
       "    </tr>\n",
       "    <tr>\n",
       "      <th>17</th>\n",
       "      <td>173</td>\n",
       "      <td>392.942197</td>\n",
       "      <td>2.162500</td>\n",
       "    </tr>\n",
       "    <tr>\n",
       "      <th>18</th>\n",
       "      <td>107</td>\n",
       "      <td>378.654206</td>\n",
       "      <td>2.140000</td>\n",
       "    </tr>\n",
       "    <tr>\n",
       "      <th>19</th>\n",
       "      <td>89</td>\n",
       "      <td>392.280899</td>\n",
       "      <td>2.170732</td>\n",
       "    </tr>\n",
       "  </tbody>\n",
       "</table>\n",
       "</div>"
      ],
      "text/plain": [
       "                                                 reports    duration  \\\n",
       "TUTIER1CODE TUTIER2CODE TUTIER3CODE TESEX TEAGE                        \n",
       "1           1           1           1     15         114  395.052632   \n",
       "                                          16         193  387.792746   \n",
       "                                          17         173  392.942197   \n",
       "                                          18         107  378.654206   \n",
       "                                          19          89  392.280899   \n",
       "\n",
       "                                                 reports_per_resp  \n",
       "TUTIER1CODE TUTIER2CODE TUTIER3CODE TESEX TEAGE                    \n",
       "1           1           1           1     15             2.035714  \n",
       "                                          16             2.097826  \n",
       "                                          17             2.162500  \n",
       "                                          18             2.140000  \n",
       "                                          19             2.170732  "
      ]
     },
     "execution_count": 41,
     "metadata": {},
     "output_type": "execute_result"
    }
   ],
   "source": [
    "act_rost_reports = pd.merge(activities_count, r_counts, on=['TESEX', 'TEAGE'], how='outer')\n",
    "act_rost_reports['reports_per_resp'] = act_rost_reports.reports / act_rost_reports.resp_count\n",
    "act_rost_reports.drop('resp_count', 1, inplace=True)\n",
    "act_rost_reports = act_rost_reports.groupby(['TUTIER1CODE', 'TUTIER2CODE', 'TUTIER3CODE', 'TESEX', 'TEAGE']).sum()\n",
    "act_rost_reports.head()"
   ]
  },
  {
   "cell_type": "markdown",
   "metadata": {},
   "source": [
    "### Make up of people who reported socializing/comunicating with others:\n",
    "Using the three part code for socializing/communicating and the code for sex, I am able to access this specific information.<br><br>62.41% of women reported socializing/communicating for an average of 68.7 minutes. <br>53.48% of men reported socializing/communicating for an average of 77.9 minutes."
   ]
  },
  {
   "cell_type": "code",
   "execution_count": 44,
   "metadata": {
    "collapsed": false
   },
   "outputs": [
    {
     "data": {
      "text/plain": [
       "reports             59.089552\n",
       "duration            68.688531\n",
       "reports_per_resp     0.624162\n",
       "dtype: float64"
      ]
     },
     "execution_count": 44,
     "metadata": {},
     "output_type": "execute_result"
    }
   ],
   "source": [
    "act_rost_reports.loc[12].loc[1].loc[1].loc[2].mean()"
   ]
  },
  {
   "cell_type": "code",
   "execution_count": 45,
   "metadata": {
    "collapsed": false
   },
   "outputs": [
    {
     "data": {
      "text/plain": [
       "reports             40.238806\n",
       "duration            77.921545\n",
       "reports_per_resp     0.534767\n",
       "dtype: float64"
      ]
     },
     "execution_count": 45,
     "metadata": {},
     "output_type": "execute_result"
    }
   ],
   "source": [
    "act_rost_reports.loc[12].loc[1].loc[1].loc[1].mean()"
   ]
  },
  {
   "cell_type": "markdown",
   "metadata": {},
   "source": [
    "### Comparing Male/Female reports of house-cleaning across age\n",
    "The following plot shows the percentage of male and female respondents of each age that reported interior house cleaning. It is very clear from the graph that women, regardless of age, are more likely to spend time cleaning the house than men."
   ]
  },
  {
   "cell_type": "code",
   "execution_count": 48,
   "metadata": {
    "collapsed": false
   },
   "outputs": [
    {
     "data": {
      "image/png": "[encoded data removed]",
      "text/plain": [
       "<matplotlib.figure.Figure at 0x1122de160>"
      ]
     },
     "metadata": {},
     "output_type": "display_data"
    }
   ],
   "source": [
    "w = act_rost_reports.loc[2].loc[1].loc[1].loc[2]['reports_per_resp']\n",
    "m = act_rost_reports.loc[2].loc[1].loc[1].loc[1]['reports_per_resp']\n",
    "\n",
    "w.plot(kind='line', c='hotpink')\n",
    "m.plot(kind='line')\n",
    "plt.title('Interior House Cleaning\\n Women vs. Men')\n",
    "plt.xlabel('Age')\n",
    "plt.ylabel('% of respondants reporting cleaning')\n",
    "plt.show()"
   ]
  },
  {
   "cell_type": "markdown",
   "metadata": {},
   "source": [
    "# Correlation\n",
    "The activities summary file containes the duration that each repsondent spent doing all reported tasks as well as informatin like their age and sex. I used pandas .corr() method to create a data frame of correlation coefficients on that data. I also replaced values of 1 (where the column was compared against itself) to values of NaN."
   ]
  },
  {
   "cell_type": "code",
   "execution_count": 14,
   "metadata": {
    "collapsed": false
   },
   "outputs": [
    {
     "data": {
      "text/html": [
       "<div>\n",
       "<table border=\"1\" class=\"dataframe\">\n",
       "  <thead>\n",
       "    <tr style=\"text-align: right;\">\n",
       "      <th></th>\n",
       "      <th>tucaseid</th>\n",
       "      <th>TUFINLWGT</th>\n",
       "      <th>TRYHHCHILD</th>\n",
       "      <th>TEAGE</th>\n",
       "      <th>TESEX</th>\n",
       "      <th>PEEDUCA</th>\n",
       "      <th>PTDTRACE</th>\n",
       "      <th>PEHSPNON</th>\n",
       "      <th>GTMETSTA</th>\n",
       "      <th>TELFS</th>\n",
       "      <th>...</th>\n",
       "      <th>t181601</th>\n",
       "      <th>t181699</th>\n",
       "      <th>t181801</th>\n",
       "      <th>t181899</th>\n",
       "      <th>t189999</th>\n",
       "      <th>t500101</th>\n",
       "      <th>t500103</th>\n",
       "      <th>t500105</th>\n",
       "      <th>t500106</th>\n",
       "      <th>t500107</th>\n",
       "    </tr>\n",
       "  </thead>\n",
       "  <tbody>\n",
       "    <tr>\n",
       "      <th>tucaseid</th>\n",
       "      <td>NaN</td>\n",
       "      <td>0.032235</td>\n",
       "      <td>0.006124</td>\n",
       "      <td>-0.007162</td>\n",
       "      <td>-0.017115</td>\n",
       "      <td>-0.014749</td>\n",
       "      <td>0.000874</td>\n",
       "      <td>-0.006381</td>\n",
       "      <td>0.014979</td>\n",
       "      <td>-0.010093</td>\n",
       "      <td>...</td>\n",
       "      <td>-0.005859</td>\n",
       "      <td>-0.006674</td>\n",
       "      <td>-0.005857</td>\n",
       "      <td>-0.009457</td>\n",
       "      <td>-0.004173</td>\n",
       "      <td>-0.040702</td>\n",
       "      <td>-0.016699</td>\n",
       "      <td>0.002191</td>\n",
       "      <td>-0.017501</td>\n",
       "      <td>-0.009540</td>\n",
       "    </tr>\n",
       "    <tr>\n",
       "      <th>TUFINLWGT</th>\n",
       "      <td>0.032235</td>\n",
       "      <td>NaN</td>\n",
       "      <td>-0.020603</td>\n",
       "      <td>-0.213174</td>\n",
       "      <td>-0.093590</td>\n",
       "      <td>-0.135534</td>\n",
       "      <td>-0.004744</td>\n",
       "      <td>-0.025933</td>\n",
       "      <td>-0.011965</td>\n",
       "      <td>-0.027283</td>\n",
       "      <td>...</td>\n",
       "      <td>-0.004466</td>\n",
       "      <td>0.001674</td>\n",
       "      <td>-0.008920</td>\n",
       "      <td>-0.008441</td>\n",
       "      <td>-0.008630</td>\n",
       "      <td>0.005873</td>\n",
       "      <td>0.001493</td>\n",
       "      <td>0.010360</td>\n",
       "      <td>-0.017711</td>\n",
       "      <td>-0.006392</td>\n",
       "    </tr>\n",
       "    <tr>\n",
       "      <th>TRYHHCHILD</th>\n",
       "      <td>0.006124</td>\n",
       "      <td>-0.020603</td>\n",
       "      <td>NaN</td>\n",
       "      <td>-0.365897</td>\n",
       "      <td>0.004457</td>\n",
       "      <td>-0.080447</td>\n",
       "      <td>0.023713</td>\n",
       "      <td>-0.032566</td>\n",
       "      <td>-0.003213</td>\n",
       "      <td>-0.127396</td>\n",
       "      <td>...</td>\n",
       "      <td>-0.003802</td>\n",
       "      <td>-0.002671</td>\n",
       "      <td>-0.001719</td>\n",
       "      <td>0.003602</td>\n",
       "      <td>0.020722</td>\n",
       "      <td>0.015719</td>\n",
       "      <td>0.013646</td>\n",
       "      <td>0.000088</td>\n",
       "      <td>-0.035564</td>\n",
       "      <td>0.020727</td>\n",
       "    </tr>\n",
       "    <tr>\n",
       "      <th>TEAGE</th>\n",
       "      <td>-0.007162</td>\n",
       "      <td>-0.213174</td>\n",
       "      <td>-0.365897</td>\n",
       "      <td>NaN</td>\n",
       "      <td>0.051919</td>\n",
       "      <td>0.023732</td>\n",
       "      <td>-0.077561</td>\n",
       "      <td>0.128753</td>\n",
       "      <td>0.040644</td>\n",
       "      <td>0.358194</td>\n",
       "      <td>...</td>\n",
       "      <td>0.002560</td>\n",
       "      <td>-0.007163</td>\n",
       "      <td>-0.008693</td>\n",
       "      <td>0.006390</td>\n",
       "      <td>-0.002466</td>\n",
       "      <td>-0.012960</td>\n",
       "      <td>-0.012961</td>\n",
       "      <td>-0.018435</td>\n",
       "      <td>0.099584</td>\n",
       "      <td>-0.000314</td>\n",
       "    </tr>\n",
       "    <tr>\n",
       "      <th>TESEX</th>\n",
       "      <td>-0.017115</td>\n",
       "      <td>-0.093590</td>\n",
       "      <td>0.004457</td>\n",
       "      <td>0.051919</td>\n",
       "      <td>NaN</td>\n",
       "      <td>0.014751</td>\n",
       "      <td>-0.008349</td>\n",
       "      <td>0.005778</td>\n",
       "      <td>-0.008446</td>\n",
       "      <td>0.148272</td>\n",
       "      <td>...</td>\n",
       "      <td>-0.001596</td>\n",
       "      <td>0.008267</td>\n",
       "      <td>0.009822</td>\n",
       "      <td>-0.014759</td>\n",
       "      <td>-0.004464</td>\n",
       "      <td>0.009056</td>\n",
       "      <td>0.015994</td>\n",
       "      <td>-0.005071</td>\n",
       "      <td>0.018821</td>\n",
       "      <td>0.010795</td>\n",
       "    </tr>\n",
       "  </tbody>\n",
       "</table>\n",
       "<p>5 rows × 409 columns</p>\n",
       "</div>"
      ],
      "text/plain": [
       "            tucaseid  TUFINLWGT  TRYHHCHILD     TEAGE     TESEX   PEEDUCA  \\\n",
       "tucaseid         NaN   0.032235    0.006124 -0.007162 -0.017115 -0.014749   \n",
       "TUFINLWGT   0.032235        NaN   -0.020603 -0.213174 -0.093590 -0.135534   \n",
       "TRYHHCHILD  0.006124  -0.020603         NaN -0.365897  0.004457 -0.080447   \n",
       "TEAGE      -0.007162  -0.213174   -0.365897       NaN  0.051919  0.023732   \n",
       "TESEX      -0.017115  -0.093590    0.004457  0.051919       NaN  0.014751   \n",
       "\n",
       "            PTDTRACE  PEHSPNON  GTMETSTA     TELFS    ...      t181601  \\\n",
       "tucaseid    0.000874 -0.006381  0.014979 -0.010093    ...    -0.005859   \n",
       "TUFINLWGT  -0.004744 -0.025933 -0.011965 -0.027283    ...    -0.004466   \n",
       "TRYHHCHILD  0.023713 -0.032566 -0.003213 -0.127396    ...    -0.003802   \n",
       "TEAGE      -0.077561  0.128753  0.040644  0.358194    ...     0.002560   \n",
       "TESEX      -0.008349  0.005778 -0.008446  0.148272    ...    -0.001596   \n",
       "\n",
       "             t181699   t181801   t181899   t189999   t500101   t500103  \\\n",
       "tucaseid   -0.006674 -0.005857 -0.009457 -0.004173 -0.040702 -0.016699   \n",
       "TUFINLWGT   0.001674 -0.008920 -0.008441 -0.008630  0.005873  0.001493   \n",
       "TRYHHCHILD -0.002671 -0.001719  0.003602  0.020722  0.015719  0.013646   \n",
       "TEAGE      -0.007163 -0.008693  0.006390 -0.002466 -0.012960 -0.012961   \n",
       "TESEX       0.008267  0.009822 -0.014759 -0.004464  0.009056  0.015994   \n",
       "\n",
       "             t500105   t500106   t500107  \n",
       "tucaseid    0.002191 -0.017501 -0.009540  \n",
       "TUFINLWGT   0.010360 -0.017711 -0.006392  \n",
       "TRYHHCHILD  0.000088 -0.035564  0.020727  \n",
       "TEAGE      -0.018435  0.099584 -0.000314  \n",
       "TESEX      -0.005071  0.018821  0.010795  \n",
       "\n",
       "[5 rows x 409 columns]"
      ]
     },
     "execution_count": 14,
     "metadata": {},
     "output_type": "execute_result"
    }
   ],
   "source": [
    "act_sum = pd.read_csv('data/atussum_2014.dat')\n",
    "act_sum.head()\n",
    "cor = act_sum.corr()\n",
    "cor.replace(to_replace=1, value=np.nan, inplace=True)\n",
    "cor.head()"
   ]
  },
  {
   "cell_type": "markdown",
   "metadata": {},
   "source": [
    "#### Correlation between sex and house cleaning\n",
    "From here I used scatter plots to determine correlations within the data. The following plot shows a positive correlation between sex and time spent cleaning the house. Since the female sex code is 2, thie positive correlation means that the more likeley a respondent is to be a woman, the more time she is likely to have spent cleaning the house."
   ]
  },
  {
   "cell_type": "code",
   "execution_count": 15,
   "metadata": {
    "collapsed": false
   },
   "outputs": [
    {
     "data": {
      "image/png": "[encoded data removed]",
      "text/plain": [
       "<matplotlib.figure.Figure at 0x115f157f0>"
      ]
     },
     "metadata": {},
     "output_type": "display_data"
    }
   ],
   "source": [
    "cor.plot(kind='scatter', x='t020101', y='TESEX', c=sns.color_palette('cool'))\n",
    "plt.title('Correlation: Sex & House Cleaning')\n",
    "plt.show()"
   ]
  },
  {
   "cell_type": "markdown",
   "metadata": {},
   "source": [
    "#### Correlation between age and radio listening\n",
    "The plot below shows a strong positive correlation between age and time spent listening to the radio. As a respondent's age increases, the amount of time they spend listening to the radio also increases."
   ]
  },
  {
   "cell_type": "code",
   "execution_count": 16,
   "metadata": {
    "collapsed": false
   },
   "outputs": [
    {
     "data": {
      "image/png": "[encoded data removed]",
      "text/plain": [
       "<matplotlib.figure.Figure at 0x111b67c50>"
      ]
     },
     "metadata": {},
     "output_type": "display_data"
    }
   ],
   "source": [
    "cor.plot(kind='scatter', x='TEAGE', y='t120305', c=sns.color_palette('cool'))\n",
    "plt.title('Correlation: Age & Listening to the Radio')\n",
    "plt.show()"
   ]
  },
  {
   "cell_type": "code",
   "execution_count": null,
   "metadata": {
    "collapsed": true
   },
   "outputs": [],
   "source": []
  },
  {
   "cell_type": "code",
   "execution_count": null,
   "metadata": {
    "collapsed": true
   },
   "outputs": [],
   "source": []
  }
 ],
 "metadata": {
  "kernelspec": {
   "display_name": "Python 3",
   "language": "python",
   "name": "python3"
  },
  "language_info": {
   "codemirror_mode": {
    "name": "ipython",
    "version": 3
   },
   "file_extension": ".py",
   "mimetype": "text/x-python",
   "name": "python",
   "nbconvert_exporter": "python",
   "pygments_lexer": "ipython3",
   "version": "3.5.1"
  }
 },
 "nbformat": 4,
 "nbformat_minor": 0
}
